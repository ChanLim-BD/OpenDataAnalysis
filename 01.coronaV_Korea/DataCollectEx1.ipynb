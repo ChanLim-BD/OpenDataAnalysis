{
 "cells": [
  {
   "cell_type": "markdown",
   "metadata": {},
   "source": [
    "# 서울시에서 공개한 코로나19 발생동향 분석\n",
    "\n",
    "* http://www.seoul.go.kr/coronaV/coronaStatus.do"
   ]
  },
  {
   "cell_type": "code",
   "execution_count": 1,
   "metadata": {},
   "outputs": [],
   "source": [
    "# 팔요한 라이브러리를 불러옵니다.\n",
    "\n",
    "import pandas as pd"
   ]
  },
  {
   "cell_type": "code",
   "execution_count": 3,
   "metadata": {},
   "outputs": [
    {
     "data": {
      "text/plain": [
       "'http://www.seoul.go.kr/coronaV/coronaStatus.do'"
      ]
     },
     "execution_count": 3,
     "metadata": {},
     "output_type": "execute_result"
    }
   ],
   "source": [
    "# 크롤링으로 가져올 url 주소를 입력합니다.\n",
    "\n",
    "url = \"http://www.seoul.go.kr/coronaV/coronaStatus.do\"\n",
    "url"
   ]
  },
  {
   "cell_type": "code",
   "execution_count": 4,
   "metadata": {},
   "outputs": [
    {
     "data": {
      "text/plain": [
       "'\\n11월 중순 이후 확진자가 증가하면서 데이터 공개 방식이 달라져서 pandas 의 read_html 로는 불러올 수가 없습니다.\\n기존의 read_html 로는 컬럼명을 불러오고 데이터는 requests 라는 라이브러리를 통해 읽어옵니다.\\n'"
      ]
     },
     "execution_count": 4,
     "metadata": {},
     "output_type": "execute_result"
    }
   ],
   "source": [
    "\"\"\"\n",
    "11월 중순 이후 확진자가 증가하면서 데이터 공개 방식이 달라져서 pandas 의 read_html 로는 불러올 수가 없습니다.\n",
    "기존의 read_html 로는 컬럼명을 불러오고 데이터는 requests 라는 라이브러리를 통해 읽어옵니다.\n",
    "\"\"\""
   ]
  },
  {
   "cell_type": "code",
   "execution_count": 5,
   "metadata": {},
   "outputs": [],
   "source": [
    "# 판다스의 read_html 을 통해 위 url에 있는 table 불러옵니다.\n",
    "\n",
    "table = pd.read_html(url)"
   ]
  },
  {
   "cell_type": "code",
   "execution_count": 6,
   "metadata": {},
   "outputs": [
    {
     "data": {
      "text/plain": [
       "6"
      ]
     },
     "execution_count": 6,
     "metadata": {},
     "output_type": "execute_result"
    }
   ],
   "source": [
    "len(table)"
   ]
  },
  {
   "cell_type": "code",
   "execution_count": 7,
   "metadata": {},
   "outputs": [
    {
     "data": {
      "text/html": [
       "<div>\n",
       "<style scoped>\n",
       "    .dataframe tbody tr th:only-of-type {\n",
       "        vertical-align: middle;\n",
       "    }\n",
       "\n",
       "    .dataframe tbody tr th {\n",
       "        vertical-align: top;\n",
       "    }\n",
       "\n",
       "    .dataframe thead th {\n",
       "        text-align: right;\n",
       "    }\n",
       "</style>\n",
       "<table border=\"1\" class=\"dataframe\">\n",
       "  <thead>\n",
       "    <tr style=\"text-align: right;\">\n",
       "      <th></th>\n",
       "      <th>종로구</th>\n",
       "      <th>중구</th>\n",
       "      <th>용산구</th>\n",
       "      <th>성동구</th>\n",
       "      <th>광진구</th>\n",
       "      <th>동대문구</th>\n",
       "      <th>중랑구</th>\n",
       "      <th>성북구</th>\n",
       "      <th>강북구</th>\n",
       "      <th>도봉구</th>\n",
       "      <th>노원구</th>\n",
       "      <th>은평구</th>\n",
       "      <th>서대문구</th>\n",
       "    </tr>\n",
       "  </thead>\n",
       "  <tbody>\n",
       "    <tr>\n",
       "      <th>0</th>\n",
       "      <td>520</td>\n",
       "      <td>384</td>\n",
       "      <td>551</td>\n",
       "      <td>608</td>\n",
       "      <td>606</td>\n",
       "      <td>919</td>\n",
       "      <td>1053</td>\n",
       "      <td>1052</td>\n",
       "      <td>655</td>\n",
       "      <td>761</td>\n",
       "      <td>1058</td>\n",
       "      <td>990</td>\n",
       "      <td>678</td>\n",
       "    </tr>\n",
       "    <tr>\n",
       "      <th>1</th>\n",
       "      <td>+1</td>\n",
       "      <td>+3</td>\n",
       "      <td>+9</td>\n",
       "      <td>+7</td>\n",
       "      <td>+5</td>\n",
       "      <td>+4</td>\n",
       "      <td>+17</td>\n",
       "      <td>+7</td>\n",
       "      <td>+6</td>\n",
       "      <td>+4</td>\n",
       "      <td>+8</td>\n",
       "      <td>+4</td>\n",
       "      <td>+6</td>\n",
       "    </tr>\n",
       "    <tr>\n",
       "      <th>2</th>\n",
       "      <td>마포구</td>\n",
       "      <td>양천구</td>\n",
       "      <td>강서구</td>\n",
       "      <td>구로구</td>\n",
       "      <td>금천구</td>\n",
       "      <td>영등포구</td>\n",
       "      <td>동작구</td>\n",
       "      <td>관악구</td>\n",
       "      <td>서초구</td>\n",
       "      <td>강남구</td>\n",
       "      <td>송파구</td>\n",
       "      <td>강동구</td>\n",
       "      <td>기타</td>\n",
       "    </tr>\n",
       "    <tr>\n",
       "      <th>3</th>\n",
       "      <td>865</td>\n",
       "      <td>910</td>\n",
       "      <td>1573</td>\n",
       "      <td>801</td>\n",
       "      <td>405</td>\n",
       "      <td>902</td>\n",
       "      <td>1029</td>\n",
       "      <td>1211</td>\n",
       "      <td>985</td>\n",
       "      <td>1181</td>\n",
       "      <td>1390</td>\n",
       "      <td>767</td>\n",
       "      <td>3026</td>\n",
       "    </tr>\n",
       "    <tr>\n",
       "      <th>4</th>\n",
       "      <td>+1</td>\n",
       "      <td>+1</td>\n",
       "      <td>+4</td>\n",
       "      <td>+2</td>\n",
       "      <td>+3</td>\n",
       "      <td>+2</td>\n",
       "      <td>+4</td>\n",
       "      <td>+4</td>\n",
       "      <td>+4</td>\n",
       "      <td>+2</td>\n",
       "      <td>+1</td>\n",
       "      <td>+1</td>\n",
       "      <td>+16</td>\n",
       "    </tr>\n",
       "  </tbody>\n",
       "</table>\n",
       "</div>"
      ],
      "text/plain": [
       "   종로구   중구   용산구  성동구  광진구  동대문구   중랑구   성북구  강북구   도봉구   노원구  은평구  서대문구\n",
       "0  520  384   551  608  606   919  1053  1052  655   761  1058  990   678\n",
       "1   +1   +3    +9   +7   +5    +4   +17    +7   +6    +4    +8   +4    +6\n",
       "2  마포구  양천구   강서구  구로구  금천구  영등포구   동작구   관악구  서초구   강남구   송파구  강동구    기타\n",
       "3  865  910  1573  801  405   902  1029  1211  985  1181  1390  767  3026\n",
       "4   +1   +1    +4   +2   +3    +2    +4    +4   +4    +2    +1   +1   +16"
      ]
     },
     "execution_count": 7,
     "metadata": {},
     "output_type": "execute_result"
    }
   ],
   "source": [
    "# read_html 은 사이트 내의 html 태그를 불러옵니다.\n",
    "\n",
    "table[0]"
   ]
  },
  {
   "cell_type": "code",
   "execution_count": 8,
   "metadata": {},
   "outputs": [
    {
     "data": {
      "text/html": [
       "<div>\n",
       "<style scoped>\n",
       "    .dataframe tbody tr th:only-of-type {\n",
       "        vertical-align: middle;\n",
       "    }\n",
       "\n",
       "    .dataframe tbody tr th {\n",
       "        vertical-align: top;\n",
       "    }\n",
       "\n",
       "    .dataframe thead th {\n",
       "        text-align: right;\n",
       "    }\n",
       "</style>\n",
       "<table border=\"1\" class=\"dataframe\">\n",
       "  <thead>\n",
       "    <tr style=\"text-align: right;\">\n",
       "      <th></th>\n",
       "      <th>종로구</th>\n",
       "      <th>중구</th>\n",
       "      <th>용산구</th>\n",
       "      <th>성동구</th>\n",
       "      <th>광진구</th>\n",
       "      <th>동대문구</th>\n",
       "    </tr>\n",
       "  </thead>\n",
       "  <tbody>\n",
       "    <tr>\n",
       "      <th>0</th>\n",
       "      <td>520</td>\n",
       "      <td>384</td>\n",
       "      <td>551</td>\n",
       "      <td>608</td>\n",
       "      <td>606</td>\n",
       "      <td>919</td>\n",
       "    </tr>\n",
       "    <tr>\n",
       "      <th>1</th>\n",
       "      <td>+1</td>\n",
       "      <td>+3</td>\n",
       "      <td>+9</td>\n",
       "      <td>+7</td>\n",
       "      <td>+5</td>\n",
       "      <td>+4</td>\n",
       "    </tr>\n",
       "    <tr>\n",
       "      <th>2</th>\n",
       "      <td>중랑구</td>\n",
       "      <td>성북구</td>\n",
       "      <td>강북구</td>\n",
       "      <td>도봉구</td>\n",
       "      <td>노원구</td>\n",
       "      <td>은평구</td>\n",
       "    </tr>\n",
       "    <tr>\n",
       "      <th>3</th>\n",
       "      <td>1053</td>\n",
       "      <td>1052</td>\n",
       "      <td>655</td>\n",
       "      <td>761</td>\n",
       "      <td>1058</td>\n",
       "      <td>990</td>\n",
       "    </tr>\n",
       "    <tr>\n",
       "      <th>4</th>\n",
       "      <td>+17</td>\n",
       "      <td>+7</td>\n",
       "      <td>+6</td>\n",
       "      <td>+4</td>\n",
       "      <td>+8</td>\n",
       "      <td>+4</td>\n",
       "    </tr>\n",
       "    <tr>\n",
       "      <th>5</th>\n",
       "      <td>서대문구</td>\n",
       "      <td>마포구</td>\n",
       "      <td>양천구</td>\n",
       "      <td>강서구</td>\n",
       "      <td>구로구</td>\n",
       "      <td>금천구</td>\n",
       "    </tr>\n",
       "    <tr>\n",
       "      <th>6</th>\n",
       "      <td>678</td>\n",
       "      <td>865</td>\n",
       "      <td>910</td>\n",
       "      <td>1573</td>\n",
       "      <td>801</td>\n",
       "      <td>405</td>\n",
       "    </tr>\n",
       "    <tr>\n",
       "      <th>7</th>\n",
       "      <td>+6</td>\n",
       "      <td>+1</td>\n",
       "      <td>+1</td>\n",
       "      <td>+4</td>\n",
       "      <td>+2</td>\n",
       "      <td>+3</td>\n",
       "    </tr>\n",
       "    <tr>\n",
       "      <th>8</th>\n",
       "      <td>영등포구</td>\n",
       "      <td>동작구</td>\n",
       "      <td>관악구</td>\n",
       "      <td>서초구</td>\n",
       "      <td>강남구</td>\n",
       "      <td>송파구</td>\n",
       "    </tr>\n",
       "    <tr>\n",
       "      <th>9</th>\n",
       "      <td>902</td>\n",
       "      <td>1029</td>\n",
       "      <td>1211</td>\n",
       "      <td>985</td>\n",
       "      <td>1181</td>\n",
       "      <td>1390</td>\n",
       "    </tr>\n",
       "    <tr>\n",
       "      <th>10</th>\n",
       "      <td>+2</td>\n",
       "      <td>+4</td>\n",
       "      <td>+4</td>\n",
       "      <td>+4</td>\n",
       "      <td>+2</td>\n",
       "      <td>+1</td>\n",
       "    </tr>\n",
       "    <tr>\n",
       "      <th>11</th>\n",
       "      <td>강동구</td>\n",
       "      <td>기타</td>\n",
       "      <td>NaN</td>\n",
       "      <td>NaN</td>\n",
       "      <td>NaN</td>\n",
       "      <td>NaN</td>\n",
       "    </tr>\n",
       "    <tr>\n",
       "      <th>12</th>\n",
       "      <td>767</td>\n",
       "      <td>3026</td>\n",
       "      <td>NaN</td>\n",
       "      <td>NaN</td>\n",
       "      <td>NaN</td>\n",
       "      <td>NaN</td>\n",
       "    </tr>\n",
       "    <tr>\n",
       "      <th>13</th>\n",
       "      <td>+1</td>\n",
       "      <td>+16</td>\n",
       "      <td>NaN</td>\n",
       "      <td>NaN</td>\n",
       "      <td>NaN</td>\n",
       "      <td>NaN</td>\n",
       "    </tr>\n",
       "  </tbody>\n",
       "</table>\n",
       "</div>"
      ],
      "text/plain": [
       "     종로구    중구   용산구   성동구   광진구  동대문구\n",
       "0    520   384   551   608   606   919\n",
       "1     +1    +3    +9    +7    +5    +4\n",
       "2    중랑구   성북구   강북구   도봉구   노원구   은평구\n",
       "3   1053  1052   655   761  1058   990\n",
       "4    +17    +7    +6    +4    +8    +4\n",
       "5   서대문구   마포구   양천구   강서구   구로구   금천구\n",
       "6    678   865   910  1573   801   405\n",
       "7     +6    +1    +1    +4    +2    +3\n",
       "8   영등포구   동작구   관악구   서초구   강남구   송파구\n",
       "9    902  1029  1211   985  1181  1390\n",
       "10    +2    +4    +4    +4    +2    +1\n",
       "11   강동구    기타   NaN   NaN   NaN   NaN\n",
       "12   767  3026   NaN   NaN   NaN   NaN\n",
       "13    +1   +16   NaN   NaN   NaN   NaN"
      ]
     },
     "execution_count": 8,
     "metadata": {},
     "output_type": "execute_result"
    }
   ],
   "source": [
    "# table 변수 안에 있는 table 태그의 값을 하나씩 읽어보며 확진자 목록이 있는 테이블을 가져옵니다.\n",
    "\n",
    "table[1]"
   ]
  },
  {
   "cell_type": "code",
   "execution_count": 9,
   "metadata": {},
   "outputs": [
    {
     "data": {
      "text/html": [
       "<div>\n",
       "<style scoped>\n",
       "    .dataframe tbody tr th:only-of-type {\n",
       "        vertical-align: middle;\n",
       "    }\n",
       "\n",
       "    .dataframe tbody tr th {\n",
       "        vertical-align: top;\n",
       "    }\n",
       "\n",
       "    .dataframe thead th {\n",
       "        text-align: right;\n",
       "    }\n",
       "</style>\n",
       "<table border=\"1\" class=\"dataframe\">\n",
       "  <thead>\n",
       "    <tr style=\"text-align: right;\">\n",
       "      <th></th>\n",
       "      <th>연번</th>\n",
       "      <th>환자</th>\n",
       "      <th>확진일</th>\n",
       "      <th>거주지</th>\n",
       "      <th>여행력</th>\n",
       "      <th>접촉력</th>\n",
       "      <th>퇴원현황</th>\n",
       "    </tr>\n",
       "  </thead>\n",
       "  <tbody>\n",
       "  </tbody>\n",
       "</table>\n",
       "</div>"
      ],
      "text/plain": [
       "Empty DataFrame\n",
       "Columns: [연번, 환자, 확진일, 거주지, 여행력, 접촉력, 퇴원현황]\n",
       "Index: []"
      ]
     },
     "execution_count": 9,
     "metadata": {},
     "output_type": "execute_result"
    }
   ],
   "source": [
    "# 미리보기 합니다.\n",
    "\n",
    "df = table[3]\n",
    "df.head()"
   ]
  },
  {
   "cell_type": "markdown",
   "metadata": {},
   "source": [
    "# 11월 중순 이후 데이터 공개방식 변경"
   ]
  },
  {
   "cell_type": "code",
   "execution_count": 10,
   "metadata": {},
   "outputs": [],
   "source": [
    "import requests"
   ]
  },
  {
   "cell_type": "code",
   "execution_count": 11,
   "metadata": {},
   "outputs": [
    {
     "data": {
      "text/plain": [
       "'https://news.seoul.go.kr/api/27/getCorona19Status/get_status_ajax.php?draw=1&start=0&length=100'"
      ]
     },
     "execution_count": 11,
     "metadata": {},
     "output_type": "execute_result"
    }
   ],
   "source": [
    "# f-string\n",
    "\n",
    "url = \"https://news.seoul.go.kr/api/27/getCorona19Status/get_status_ajax.php?draw=1\"\n",
    "# url = f\"{url}&columns%5B0%5D%5Bdata%5D=0&columns%5B0%5D%5Bname%5D=&columns%5B0%5D%5Bsearchable%5D=true&columns%5B0%5D%5Borderable%5D=true&columns%5B0%5D%5Bsearch%5D%5Bvalue%5D=&columns%5B0%5D%5Bsearch%5D%5Bregex%5D=false&columns%5B1%5D%5Bdata%5D=1&columns%5B1%5D%5Bname%5D=&columns%5B1%5D%5Bsearchable%5D=true&columns%5B1%5D%5Borderable%5D=true&columns%5B1%5D%5Bsearch%5D%5Bvalue%5D=&columns%5B1%5D%5Bsearch%5D%5Bregex%5D=false&columns%5B2%5D%5Bdata%5D=2&columns%5B2%5D%5Bname%5D=&columns%5B2%5D%5Bsearchable%5D=true&columns%5B2%5D%5Borderable%5D=true&columns%5B2%5D%5Bsearch%5D%5Bvalue%5D=&columns%5B2%5D%5Bsearch%5D%5Bregex%5D=false&columns%5B3%5D%5Bdata%5D=3&columns%5B3%5D%5Bname%5D=&columns%5B3%5D%5Bsearchable%5D=true&columns%5B3%5D%5Borderable%5D=true&columns%5B3%5D%5Bsearch%5D%5Bvalue%5D=&columns%5B3%5D%5Bsearch%5D%5Bregex%5D=false&columns%5B4%5D%5Bdata%5D=4&columns%5B4%5D%5Bname%5D=&columns%5B4%5D%5Bsearchable%5D=true&columns%5B4%5D%5Borderable%5D=true&columns%5B4%5D%5Bsearch%5D%5Bvalue%5D=&columns%5B4%5D%5Bsearch%5D%5Bregex%5D=false&columns%5B5%5D%5Bdata%5D=5&columns%5B5%5D%5Bname%5D=&columns%5B5%5D%5Bsearchable%5D=true&columns%5B5%5D%5Borderable%5D=true&columns%5B5%5D%5Bsearch%5D%5Bvalue%5D=&columns%5B5%5D%5Bsearch%5D%5Bregex%5D=false&columns%5B6%5D%5Bdata%5D=6&columns%5B6%5D%5Bname%5D=&columns%5B6%5D%5Bsearchable%5D=true&columns%5B6%5D%5Borderable%5D=true&columns%5B6%5D%5Bsearch%5D%5Bvalue%5D=&columns%5B6%5D%5Bsearch%5D%5Bregex%5D=false&order%5B0%5D%5Bcolumn%5D=0&order%5B0%5D%5Bdir%5D=desc\n",
    "url = f\"{url}&start=0&length=100\"\n",
    "# url\"&search%5Bvalue%5D=&search%5Bregex%5D=true&_=1612502263512\"\n",
    "url"
   ]
  },
  {
   "cell_type": "code",
   "execution_count": 15,
   "metadata": {},
   "outputs": [],
   "source": [
    "response = requests.get(url)\n",
    "data_json = response.json()\n",
    "#pd.DataFrame(data_json[\"data\"])"
   ]
  },
  {
   "cell_type": "code",
   "execution_count": 16,
   "metadata": {},
   "outputs": [
    {
     "data": {
      "text/plain": [
       "14880"
      ]
     },
     "execution_count": 16,
     "metadata": {},
     "output_type": "execute_result"
    }
   ],
   "source": [
    "records_total = data_json['recordsTotal']\n",
    "records_total"
   ]
  },
  {
   "cell_type": "code",
   "execution_count": 19,
   "metadata": {},
   "outputs": [
    {
     "data": {
      "text/plain": [
       "150"
      ]
     },
     "execution_count": 19,
     "metadata": {},
     "output_type": "execute_result"
    }
   ],
   "source": [
    "end_page = round(records_total / 100) + 1\n",
    "end_page"
   ]
  },
  {
   "cell_type": "code",
   "execution_count": 21,
   "metadata": {},
   "outputs": [],
   "source": [
    "data = data_json[\"data\"]"
   ]
  },
  {
   "cell_type": "code",
   "execution_count": 22,
   "metadata": {},
   "outputs": [
    {
     "data": {
      "text/html": [
       "<div>\n",
       "<style scoped>\n",
       "    .dataframe tbody tr th:only-of-type {\n",
       "        vertical-align: middle;\n",
       "    }\n",
       "\n",
       "    .dataframe tbody tr th {\n",
       "        vertical-align: top;\n",
       "    }\n",
       "\n",
       "    .dataframe thead th {\n",
       "        text-align: right;\n",
       "    }\n",
       "</style>\n",
       "<table border=\"1\" class=\"dataframe\">\n",
       "  <thead>\n",
       "    <tr style=\"text-align: right;\">\n",
       "      <th></th>\n",
       "      <th>0</th>\n",
       "      <th>1</th>\n",
       "      <th>2</th>\n",
       "      <th>3</th>\n",
       "      <th>4</th>\n",
       "      <th>5</th>\n",
       "      <th>6</th>\n",
       "    </tr>\n",
       "  </thead>\n",
       "  <tbody>\n",
       "    <tr>\n",
       "      <th>0</th>\n",
       "      <td>&lt;p class='corona19_no'&gt;24880&lt;/p&gt;</td>\n",
       "      <td>80045</td>\n",
       "      <td>2021-02-03</td>\n",
       "      <td>타시도</td>\n",
       "      <td>-</td>\n",
       "      <td>감염경로 조사중</td>\n",
       "      <td>&lt;b class=''&gt;&lt;/b&gt;</td>\n",
       "    </tr>\n",
       "    <tr>\n",
       "      <th>1</th>\n",
       "      <td>&lt;p class='corona19_no'&gt;24879&lt;/p&gt;</td>\n",
       "      <td>79937</td>\n",
       "      <td>2021-02-04</td>\n",
       "      <td>동작구</td>\n",
       "      <td>-</td>\n",
       "      <td>기타 확진자 접촉</td>\n",
       "      <td>&lt;b class=''&gt;&lt;/b&gt;</td>\n",
       "    </tr>\n",
       "    <tr>\n",
       "      <th>2</th>\n",
       "      <td>&lt;p class='corona19_no'&gt;24878&lt;/p&gt;</td>\n",
       "      <td>80125</td>\n",
       "      <td>2021-02-04</td>\n",
       "      <td>동대문구</td>\n",
       "      <td>-</td>\n",
       "      <td>기타 확진자 접촉</td>\n",
       "      <td>&lt;b class=''&gt;&lt;/b&gt;</td>\n",
       "    </tr>\n",
       "    <tr>\n",
       "      <th>3</th>\n",
       "      <td>&lt;p class='corona19_no'&gt;24877&lt;/p&gt;</td>\n",
       "      <td>80120</td>\n",
       "      <td>2021-02-04</td>\n",
       "      <td>광진구</td>\n",
       "      <td>-</td>\n",
       "      <td>기타 확진자 접촉</td>\n",
       "      <td>&lt;b class=''&gt;&lt;/b&gt;</td>\n",
       "    </tr>\n",
       "    <tr>\n",
       "      <th>4</th>\n",
       "      <td>&lt;p class='corona19_no'&gt;24876&lt;/p&gt;</td>\n",
       "      <td>80129</td>\n",
       "      <td>2021-02-04</td>\n",
       "      <td>광진구</td>\n",
       "      <td>-</td>\n",
       "      <td>감염경로 조사중</td>\n",
       "      <td>&lt;b class=''&gt;&lt;/b&gt;</td>\n",
       "    </tr>\n",
       "    <tr>\n",
       "      <th>...</th>\n",
       "      <td>...</td>\n",
       "      <td>...</td>\n",
       "      <td>...</td>\n",
       "      <td>...</td>\n",
       "      <td>...</td>\n",
       "      <td>...</td>\n",
       "      <td>...</td>\n",
       "    </tr>\n",
       "    <tr>\n",
       "      <th>95</th>\n",
       "      <td>&lt;p class='corona19_no'&gt;24785&lt;/p&gt;</td>\n",
       "      <td>79953</td>\n",
       "      <td>2021-02-04</td>\n",
       "      <td>타시도</td>\n",
       "      <td>-</td>\n",
       "      <td>감염경로 조사중</td>\n",
       "      <td>&lt;b class='status2'&gt;&lt;/b&gt;</td>\n",
       "    </tr>\n",
       "    <tr>\n",
       "      <th>96</th>\n",
       "      <td>&lt;p class='corona19_no'&gt;24784&lt;/p&gt;</td>\n",
       "      <td>79791</td>\n",
       "      <td>2021-02-04</td>\n",
       "      <td>관악구</td>\n",
       "      <td>-</td>\n",
       "      <td>감염경로 조사중</td>\n",
       "      <td>&lt;b class='status2'&gt;&lt;/b&gt;</td>\n",
       "    </tr>\n",
       "    <tr>\n",
       "      <th>97</th>\n",
       "      <td>&lt;p class='corona19_no'&gt;24783&lt;/p&gt;</td>\n",
       "      <td>79793</td>\n",
       "      <td>2021-02-04</td>\n",
       "      <td>관악구</td>\n",
       "      <td>-</td>\n",
       "      <td>감염경로 조사중</td>\n",
       "      <td>&lt;b class='status2'&gt;&lt;/b&gt;</td>\n",
       "    </tr>\n",
       "    <tr>\n",
       "      <th>98</th>\n",
       "      <td>&lt;p class='corona19_no'&gt;24782&lt;/p&gt;</td>\n",
       "      <td>79872</td>\n",
       "      <td>2021-02-04</td>\n",
       "      <td>강북구</td>\n",
       "      <td>-</td>\n",
       "      <td>중구 소재 콜센터4 관련</td>\n",
       "      <td>&lt;b class='status2'&gt;&lt;/b&gt;</td>\n",
       "    </tr>\n",
       "    <tr>\n",
       "      <th>99</th>\n",
       "      <td>&lt;p class='corona19_no'&gt;24781&lt;/p&gt;</td>\n",
       "      <td>78128</td>\n",
       "      <td>2021-02-04</td>\n",
       "      <td>강북구</td>\n",
       "      <td>-</td>\n",
       "      <td>기타 확진자 접촉</td>\n",
       "      <td>&lt;b class='status2'&gt;&lt;/b&gt;</td>\n",
       "    </tr>\n",
       "  </tbody>\n",
       "</table>\n",
       "<p>100 rows × 7 columns</p>\n",
       "</div>"
      ],
      "text/plain": [
       "                                   0      1           2     3  4  \\\n",
       "0   <p class='corona19_no'>24880</p>  80045  2021-02-03   타시도  -   \n",
       "1   <p class='corona19_no'>24879</p>  79937  2021-02-04   동작구  -   \n",
       "2   <p class='corona19_no'>24878</p>  80125  2021-02-04  동대문구  -   \n",
       "3   <p class='corona19_no'>24877</p>  80120  2021-02-04   광진구  -   \n",
       "4   <p class='corona19_no'>24876</p>  80129  2021-02-04   광진구  -   \n",
       "..                               ...    ...         ...   ... ..   \n",
       "95  <p class='corona19_no'>24785</p>  79953  2021-02-04   타시도  -   \n",
       "96  <p class='corona19_no'>24784</p>  79791  2021-02-04   관악구  -   \n",
       "97  <p class='corona19_no'>24783</p>  79793  2021-02-04   관악구  -   \n",
       "98  <p class='corona19_no'>24782</p>  79872  2021-02-04   강북구  -   \n",
       "99  <p class='corona19_no'>24781</p>  78128  2021-02-04   강북구  -   \n",
       "\n",
       "                5                        6  \n",
       "0        감염경로 조사중         <b class=''></b>  \n",
       "1       기타 확진자 접촉         <b class=''></b>  \n",
       "2       기타 확진자 접촉         <b class=''></b>  \n",
       "3       기타 확진자 접촉         <b class=''></b>  \n",
       "4        감염경로 조사중         <b class=''></b>  \n",
       "..            ...                      ...  \n",
       "95       감염경로 조사중  <b class='status2'></b>  \n",
       "96       감염경로 조사중  <b class='status2'></b>  \n",
       "97       감염경로 조사중  <b class='status2'></b>  \n",
       "98  중구 소재 콜센터4 관련  <b class='status2'></b>  \n",
       "99      기타 확진자 접촉  <b class='status2'></b>  \n",
       "\n",
       "[100 rows x 7 columns]"
      ]
     },
     "execution_count": 22,
     "metadata": {},
     "output_type": "execute_result"
    }
   ],
   "source": [
    "pd.DataFrame(data)"
   ]
  },
  {
   "cell_type": "markdown",
   "metadata": {},
   "source": [
    "# 함수로 만들기"
   ]
  },
  {
   "cell_type": "code",
   "execution_count": 25,
   "metadata": {},
   "outputs": [],
   "source": [
    "def get_seoul_covid19_100(page_no):\n",
    "    \"\"\"\n",
    "    page_no : 입력값으로 페이지 번호를 입력하면 해당 번호의 데이터를 가져옴\n",
    "    start_no : 입력받은 page_no로\n",
    "    \"\"\"\n",
    "    start_no = (page_no - 1) * 100\n",
    "    url = f\"https://news.seoul.go.kr/api/27/getCorona19Status/get_status_ajax.php?draw={page_no}\"\n",
    "    url = f\"{url}&order%5B0%5D%5Bdir%5D=desc&start={start_no}&length=100\"\n",
    "    response = requests.get(url)\n",
    "    data_json = response.json()\n",
    "    return data_json"
   ]
  },
  {
   "cell_type": "code",
   "execution_count": 27,
   "metadata": {},
   "outputs": [],
   "source": [
    "# 데이터가 있을 때\n",
    "#get_seoul_covid19_100(1)"
   ]
  },
  {
   "cell_type": "code",
   "execution_count": 28,
   "metadata": {},
   "outputs": [
    {
     "data": {
      "text/plain": [
       "{'draw': -1, 'recordsTotal': 14880, 'recordsFiltered': 14880, 'data': []}"
      ]
     },
     "execution_count": 28,
     "metadata": {},
     "output_type": "execute_result"
    }
   ],
   "source": [
    "# 데이터가 없을 때\n",
    "get_seoul_covid19_100(-1)"
   ]
  },
  {
   "cell_type": "markdown",
   "metadata": {},
   "source": [
    "# 전체 데이터 가져오기"
   ]
  },
  {
   "cell_type": "markdown",
   "metadata": {},
   "source": [
    "## tqdm\n",
    "* [tqdm documentation](https://tqdm.github.io/)\n",
    "* 오래 걸리는 작업의 진행상태를 표시해 줍니다.\n",
    "* 별도의 설치가 필요 합니다.\n",
    "* !pip install tqdm 으로 설치가 필요합니다."
   ]
  },
  {
   "cell_type": "code",
   "execution_count": 29,
   "metadata": {},
   "outputs": [],
   "source": [
    "# !pip install tqdm"
   ]
  },
  {
   "cell_type": "code",
   "execution_count": 30,
   "metadata": {},
   "outputs": [],
   "source": [
    "# time.sleep 으로 시차를 두기 위해\n",
    "import time\n",
    "# tqdm : 진행상태를 표시하기 위해\n",
    "from tqdm import trange"
   ]
  },
  {
   "cell_type": "code",
   "execution_count": 36,
   "metadata": {},
   "outputs": [],
   "source": [
    "# for page_no in trange(1, 10):\n",
    "#    print(page_no)"
   ]
  },
  {
   "cell_type": "code",
   "execution_count": 38,
   "metadata": {},
   "outputs": [
    {
     "name": "stderr",
     "output_type": "stream",
     "text": [
      "100%|████████████████████████████████████████████████████████████████████████████████████| 4/4 [00:01<00:00,  3.80it/s]\n"
     ]
    }
   ],
   "source": [
    "# page_list = []\n",
    "# for page_no in trange(1, 5):\n",
    "#     one_page = get_seoul_covid19_100(page_no)\n",
    "#     one_page = pd.DataFrame(one_page[\"data\"])\n",
    "#     page_list.append(one_page)\n",
    "#     time.sleep(0.5)"
   ]
  },
  {
   "cell_type": "code",
   "execution_count": 39,
   "metadata": {},
   "outputs": [
    {
     "data": {
      "text/html": [
       "<div>\n",
       "<style scoped>\n",
       "    .dataframe tbody tr th:only-of-type {\n",
       "        vertical-align: middle;\n",
       "    }\n",
       "\n",
       "    .dataframe tbody tr th {\n",
       "        vertical-align: top;\n",
       "    }\n",
       "\n",
       "    .dataframe thead th {\n",
       "        text-align: right;\n",
       "    }\n",
       "</style>\n",
       "<table border=\"1\" class=\"dataframe\">\n",
       "  <thead>\n",
       "    <tr style=\"text-align: right;\">\n",
       "      <th></th>\n",
       "      <th>0</th>\n",
       "      <th>1</th>\n",
       "      <th>2</th>\n",
       "      <th>3</th>\n",
       "      <th>4</th>\n",
       "      <th>5</th>\n",
       "      <th>6</th>\n",
       "    </tr>\n",
       "  </thead>\n",
       "  <tbody>\n",
       "    <tr>\n",
       "      <th>0</th>\n",
       "      <td>&lt;p class='corona19_no'&gt;24880&lt;/p&gt;</td>\n",
       "      <td>80045</td>\n",
       "      <td>2021-02-03</td>\n",
       "      <td>타시도</td>\n",
       "      <td>-</td>\n",
       "      <td>감염경로 조사중</td>\n",
       "      <td>&lt;b class=''&gt;&lt;/b&gt;</td>\n",
       "    </tr>\n",
       "    <tr>\n",
       "      <th>1</th>\n",
       "      <td>&lt;p class='corona19_no'&gt;24879&lt;/p&gt;</td>\n",
       "      <td>79937</td>\n",
       "      <td>2021-02-04</td>\n",
       "      <td>동작구</td>\n",
       "      <td>-</td>\n",
       "      <td>기타 확진자 접촉</td>\n",
       "      <td>&lt;b class=''&gt;&lt;/b&gt;</td>\n",
       "    </tr>\n",
       "    <tr>\n",
       "      <th>2</th>\n",
       "      <td>&lt;p class='corona19_no'&gt;24878&lt;/p&gt;</td>\n",
       "      <td>80125</td>\n",
       "      <td>2021-02-04</td>\n",
       "      <td>동대문구</td>\n",
       "      <td>-</td>\n",
       "      <td>기타 확진자 접촉</td>\n",
       "      <td>&lt;b class=''&gt;&lt;/b&gt;</td>\n",
       "    </tr>\n",
       "    <tr>\n",
       "      <th>3</th>\n",
       "      <td>&lt;p class='corona19_no'&gt;24877&lt;/p&gt;</td>\n",
       "      <td>80120</td>\n",
       "      <td>2021-02-04</td>\n",
       "      <td>광진구</td>\n",
       "      <td>-</td>\n",
       "      <td>기타 확진자 접촉</td>\n",
       "      <td>&lt;b class=''&gt;&lt;/b&gt;</td>\n",
       "    </tr>\n",
       "    <tr>\n",
       "      <th>4</th>\n",
       "      <td>&lt;p class='corona19_no'&gt;24876&lt;/p&gt;</td>\n",
       "      <td>80129</td>\n",
       "      <td>2021-02-04</td>\n",
       "      <td>광진구</td>\n",
       "      <td>-</td>\n",
       "      <td>감염경로 조사중</td>\n",
       "      <td>&lt;b class=''&gt;&lt;/b&gt;</td>\n",
       "    </tr>\n",
       "    <tr>\n",
       "      <th>...</th>\n",
       "      <td>...</td>\n",
       "      <td>...</td>\n",
       "      <td>...</td>\n",
       "      <td>...</td>\n",
       "      <td>...</td>\n",
       "      <td>...</td>\n",
       "      <td>...</td>\n",
       "    </tr>\n",
       "    <tr>\n",
       "      <th>95</th>\n",
       "      <td>&lt;p class='corona19_no'&gt;24485&lt;/p&gt;</td>\n",
       "      <td>79046</td>\n",
       "      <td>2021-02-02</td>\n",
       "      <td>송파구</td>\n",
       "      <td>-</td>\n",
       "      <td>기타 확진자 접촉</td>\n",
       "      <td>&lt;b class=''&gt;&lt;/b&gt;</td>\n",
       "    </tr>\n",
       "    <tr>\n",
       "      <th>96</th>\n",
       "      <td>&lt;p class='corona19_no'&gt;24484&lt;/p&gt;</td>\n",
       "      <td>79089</td>\n",
       "      <td>2021-02-02</td>\n",
       "      <td>구로구</td>\n",
       "      <td>-</td>\n",
       "      <td>감염경로 조사중</td>\n",
       "      <td>&lt;b class=''&gt;&lt;/b&gt;</td>\n",
       "    </tr>\n",
       "    <tr>\n",
       "      <th>97</th>\n",
       "      <td>&lt;p class='corona19_no'&gt;24483&lt;/p&gt;</td>\n",
       "      <td>79053</td>\n",
       "      <td>2021-02-02</td>\n",
       "      <td>중구</td>\n",
       "      <td>-</td>\n",
       "      <td>관악구 소재 의료기관 관련</td>\n",
       "      <td>&lt;b class=''&gt;&lt;/b&gt;</td>\n",
       "    </tr>\n",
       "    <tr>\n",
       "      <th>98</th>\n",
       "      <td>&lt;p class='corona19_no'&gt;24482&lt;/p&gt;</td>\n",
       "      <td>79050</td>\n",
       "      <td>2021-02-02</td>\n",
       "      <td>중구</td>\n",
       "      <td>-</td>\n",
       "      <td>관악구 소재 의료기관 관련</td>\n",
       "      <td>&lt;b class=''&gt;&lt;/b&gt;</td>\n",
       "    </tr>\n",
       "    <tr>\n",
       "      <th>99</th>\n",
       "      <td>&lt;p class='corona19_no'&gt;24481&lt;/p&gt;</td>\n",
       "      <td>78935</td>\n",
       "      <td>2021-02-02</td>\n",
       "      <td>송파구</td>\n",
       "      <td>-</td>\n",
       "      <td>타시도 확진자 접촉</td>\n",
       "      <td>&lt;b class=''&gt;&lt;/b&gt;</td>\n",
       "    </tr>\n",
       "  </tbody>\n",
       "</table>\n",
       "<p>400 rows × 7 columns</p>\n",
       "</div>"
      ],
      "text/plain": [
       "                                   0      1           2     3  4  \\\n",
       "0   <p class='corona19_no'>24880</p>  80045  2021-02-03   타시도  -   \n",
       "1   <p class='corona19_no'>24879</p>  79937  2021-02-04   동작구  -   \n",
       "2   <p class='corona19_no'>24878</p>  80125  2021-02-04  동대문구  -   \n",
       "3   <p class='corona19_no'>24877</p>  80120  2021-02-04   광진구  -   \n",
       "4   <p class='corona19_no'>24876</p>  80129  2021-02-04   광진구  -   \n",
       "..                               ...    ...         ...   ... ..   \n",
       "95  <p class='corona19_no'>24485</p>  79046  2021-02-02   송파구  -   \n",
       "96  <p class='corona19_no'>24484</p>  79089  2021-02-02   구로구  -   \n",
       "97  <p class='corona19_no'>24483</p>  79053  2021-02-02    중구  -   \n",
       "98  <p class='corona19_no'>24482</p>  79050  2021-02-02    중구  -   \n",
       "99  <p class='corona19_no'>24481</p>  78935  2021-02-02   송파구  -   \n",
       "\n",
       "                 5                 6  \n",
       "0         감염경로 조사중  <b class=''></b>  \n",
       "1        기타 확진자 접촉  <b class=''></b>  \n",
       "2        기타 확진자 접촉  <b class=''></b>  \n",
       "3        기타 확진자 접촉  <b class=''></b>  \n",
       "4         감염경로 조사중  <b class=''></b>  \n",
       "..             ...               ...  \n",
       "95       기타 확진자 접촉  <b class=''></b>  \n",
       "96        감염경로 조사중  <b class=''></b>  \n",
       "97  관악구 소재 의료기관 관련  <b class=''></b>  \n",
       "98  관악구 소재 의료기관 관련  <b class=''></b>  \n",
       "99      타시도 확진자 접촉  <b class=''></b>  \n",
       "\n",
       "[400 rows x 7 columns]"
      ]
     },
     "execution_count": 39,
     "metadata": {},
     "output_type": "execute_result"
    }
   ],
   "source": [
    "# pd.concat(page_list)"
   ]
  },
  {
   "cell_type": "code",
   "execution_count": 45,
   "metadata": {},
   "outputs": [
    {
     "name": "stderr",
     "output_type": "stream",
     "text": [
      "100%|████████████████████████████████████████████████████████████████████████████████████| 4/4 [00:03<00:00,  1.28it/s]\n"
     ]
    }
   ],
   "source": [
    "# 전체 페이지를 가져오기 전에 일부 페이지만 실행\n",
    "page_list = []\n",
    "# 데이터가 제대로 로드 되는지 앞부분 3페이지 정도만 확인하고 전체페이지를 가져오록 합니다.\n",
    "# 처음부터 전체 페이지를 수집하면 중간에 오류가 나도 찾기가 어렵습니다.\n",
    "# 일부만 우선 가져와 보고 잘 동작한다면 전체를 가져오도록 합니다.\n",
    "all_page = 3\n",
    "for page_no in trange(all_page + 1):\n",
    "    one_page = get_seoul_covid19_100(page_no)\n",
    "    one_page = pd.DataFrame(one_page[\"data\"])\n",
    "    page_list.append(one_page)\n",
    "    # 서버에 한번에 너무 많은요청을 보내면 서버에 부담이 됩니다.\n",
    "    # 서버에 부담을 주지 않기 위애 0.5초씩 쉬었다 가져옵니다.\n",
    "    time.sleep(0.5)"
   ]
  },
  {
   "cell_type": "code",
   "execution_count": 47,
   "metadata": {},
   "outputs": [
    {
     "data": {
      "text/html": [
       "<div>\n",
       "<style scoped>\n",
       "    .dataframe tbody tr th:only-of-type {\n",
       "        vertical-align: middle;\n",
       "    }\n",
       "\n",
       "    .dataframe tbody tr th {\n",
       "        vertical-align: top;\n",
       "    }\n",
       "\n",
       "    .dataframe thead th {\n",
       "        text-align: right;\n",
       "    }\n",
       "</style>\n",
       "<table border=\"1\" class=\"dataframe\">\n",
       "  <thead>\n",
       "    <tr style=\"text-align: right;\">\n",
       "      <th></th>\n",
       "      <th>0</th>\n",
       "      <th>1</th>\n",
       "      <th>2</th>\n",
       "      <th>3</th>\n",
       "      <th>4</th>\n",
       "      <th>5</th>\n",
       "      <th>6</th>\n",
       "    </tr>\n",
       "  </thead>\n",
       "  <tbody>\n",
       "    <tr>\n",
       "      <th>0</th>\n",
       "      <td>&lt;p class='corona19_no'&gt;24880&lt;/p&gt;</td>\n",
       "      <td>80045</td>\n",
       "      <td>2021-02-03</td>\n",
       "      <td>타시도</td>\n",
       "      <td>-</td>\n",
       "      <td>감염경로 조사중</td>\n",
       "      <td>&lt;b class=''&gt;&lt;/b&gt;</td>\n",
       "    </tr>\n",
       "    <tr>\n",
       "      <th>1</th>\n",
       "      <td>&lt;p class='corona19_no'&gt;24879&lt;/p&gt;</td>\n",
       "      <td>79937</td>\n",
       "      <td>2021-02-04</td>\n",
       "      <td>동작구</td>\n",
       "      <td>-</td>\n",
       "      <td>기타 확진자 접촉</td>\n",
       "      <td>&lt;b class=''&gt;&lt;/b&gt;</td>\n",
       "    </tr>\n",
       "    <tr>\n",
       "      <th>2</th>\n",
       "      <td>&lt;p class='corona19_no'&gt;24878&lt;/p&gt;</td>\n",
       "      <td>80125</td>\n",
       "      <td>2021-02-04</td>\n",
       "      <td>동대문구</td>\n",
       "      <td>-</td>\n",
       "      <td>기타 확진자 접촉</td>\n",
       "      <td>&lt;b class=''&gt;&lt;/b&gt;</td>\n",
       "    </tr>\n",
       "    <tr>\n",
       "      <th>3</th>\n",
       "      <td>&lt;p class='corona19_no'&gt;24877&lt;/p&gt;</td>\n",
       "      <td>80120</td>\n",
       "      <td>2021-02-04</td>\n",
       "      <td>광진구</td>\n",
       "      <td>-</td>\n",
       "      <td>기타 확진자 접촉</td>\n",
       "      <td>&lt;b class=''&gt;&lt;/b&gt;</td>\n",
       "    </tr>\n",
       "    <tr>\n",
       "      <th>4</th>\n",
       "      <td>&lt;p class='corona19_no'&gt;24876&lt;/p&gt;</td>\n",
       "      <td>80129</td>\n",
       "      <td>2021-02-04</td>\n",
       "      <td>광진구</td>\n",
       "      <td>-</td>\n",
       "      <td>감염경로 조사중</td>\n",
       "      <td>&lt;b class=''&gt;&lt;/b&gt;</td>\n",
       "    </tr>\n",
       "    <tr>\n",
       "      <th>...</th>\n",
       "      <td>...</td>\n",
       "      <td>...</td>\n",
       "      <td>...</td>\n",
       "      <td>...</td>\n",
       "      <td>...</td>\n",
       "      <td>...</td>\n",
       "      <td>...</td>\n",
       "    </tr>\n",
       "    <tr>\n",
       "      <th>95</th>\n",
       "      <td>&lt;p class='corona19_no'&gt;24585&lt;/p&gt;</td>\n",
       "      <td>79471</td>\n",
       "      <td>2021-02-03</td>\n",
       "      <td>용산구</td>\n",
       "      <td>-</td>\n",
       "      <td>기타 확진자 접촉</td>\n",
       "      <td>&lt;b class=''&gt;&lt;/b&gt;</td>\n",
       "    </tr>\n",
       "    <tr>\n",
       "      <th>96</th>\n",
       "      <td>&lt;p class='corona19_no'&gt;24584&lt;/p&gt;</td>\n",
       "      <td>79397</td>\n",
       "      <td>2021-02-03</td>\n",
       "      <td>용산구</td>\n",
       "      <td>-</td>\n",
       "      <td>기타 확진자 접촉</td>\n",
       "      <td>&lt;b class=''&gt;&lt;/b&gt;</td>\n",
       "    </tr>\n",
       "    <tr>\n",
       "      <th>97</th>\n",
       "      <td>&lt;p class='corona19_no'&gt;24583&lt;/p&gt;</td>\n",
       "      <td>79723</td>\n",
       "      <td>2021-02-03</td>\n",
       "      <td>성동구</td>\n",
       "      <td>-</td>\n",
       "      <td>성동구 소재 병원 관련('21.1월)</td>\n",
       "      <td>&lt;b class=''&gt;&lt;/b&gt;</td>\n",
       "    </tr>\n",
       "    <tr>\n",
       "      <th>98</th>\n",
       "      <td>&lt;p class='corona19_no'&gt;24582&lt;/p&gt;</td>\n",
       "      <td>79096</td>\n",
       "      <td>2021-02-02</td>\n",
       "      <td>기타</td>\n",
       "      <td>-</td>\n",
       "      <td>구로구 소재 교정시설</td>\n",
       "      <td>&lt;b class=''&gt;&lt;/b&gt;</td>\n",
       "    </tr>\n",
       "    <tr>\n",
       "      <th>99</th>\n",
       "      <td>&lt;p class='corona19_no'&gt;24581&lt;/p&gt;</td>\n",
       "      <td>79063</td>\n",
       "      <td>2021-02-02</td>\n",
       "      <td>기타</td>\n",
       "      <td>-</td>\n",
       "      <td>구로구 소재 교정시설</td>\n",
       "      <td>&lt;b class=''&gt;&lt;/b&gt;</td>\n",
       "    </tr>\n",
       "  </tbody>\n",
       "</table>\n",
       "<p>300 rows × 7 columns</p>\n",
       "</div>"
      ],
      "text/plain": [
       "                                   0      1           2     3  4  \\\n",
       "0   <p class='corona19_no'>24880</p>  80045  2021-02-03   타시도  -   \n",
       "1   <p class='corona19_no'>24879</p>  79937  2021-02-04   동작구  -   \n",
       "2   <p class='corona19_no'>24878</p>  80125  2021-02-04  동대문구  -   \n",
       "3   <p class='corona19_no'>24877</p>  80120  2021-02-04   광진구  -   \n",
       "4   <p class='corona19_no'>24876</p>  80129  2021-02-04   광진구  -   \n",
       "..                               ...    ...         ...   ... ..   \n",
       "95  <p class='corona19_no'>24585</p>  79471  2021-02-03   용산구  -   \n",
       "96  <p class='corona19_no'>24584</p>  79397  2021-02-03   용산구  -   \n",
       "97  <p class='corona19_no'>24583</p>  79723  2021-02-03   성동구  -   \n",
       "98  <p class='corona19_no'>24582</p>  79096  2021-02-02    기타  -   \n",
       "99  <p class='corona19_no'>24581</p>  79063  2021-02-02    기타  -   \n",
       "\n",
       "                       5                 6  \n",
       "0               감염경로 조사중  <b class=''></b>  \n",
       "1              기타 확진자 접촉  <b class=''></b>  \n",
       "2              기타 확진자 접촉  <b class=''></b>  \n",
       "3              기타 확진자 접촉  <b class=''></b>  \n",
       "4               감염경로 조사중  <b class=''></b>  \n",
       "..                   ...               ...  \n",
       "95             기타 확진자 접촉  <b class=''></b>  \n",
       "96             기타 확진자 접촉  <b class=''></b>  \n",
       "97  성동구 소재 병원 관련('21.1월)  <b class=''></b>  \n",
       "98           구로구 소재 교정시설  <b class=''></b>  \n",
       "99           구로구 소재 교정시설  <b class=''></b>  \n",
       "\n",
       "[300 rows x 7 columns]"
      ]
     },
     "execution_count": 47,
     "metadata": {},
     "output_type": "execute_result"
    }
   ],
   "source": [
    "# 가져온 데이터가 맞는지 확인, 너무 많을 수 있기 때문에 슬라이싱으로 잘라서 보기\n",
    "pd.concat(page_list)"
   ]
  },
  {
   "cell_type": "code",
   "execution_count": 50,
   "metadata": {},
   "outputs": [],
   "source": [
    "def get_multi_page_list(start_page, end_page):\n",
    "    # 데이터가 제대로 로드 되는지 앞부분 3페이지 정도만 확인하고 전체페이지를 가져오록 합니다.\n",
    "    \n",
    "    page_list = []\n",
    "    for page_no in trange(start_page, end_page + 1):\n",
    "        one_page = get_seoul_covid19_100(page_no)\n",
    "        if len(one_page[\"data\"]) > 0:\n",
    "            one_page = pd.DataFrame(one_page[\"data\"])\n",
    "            page_list.append(one_page)\n",
    "            # 서버에 한번에 너무 많은요청을 보내면 서버에 부담이 됩니다.\n",
    "            # 서버에 부담을 주지 않기 위애 0.5초씩 쉬었다 가져옵니다.\n",
    "            time.sleep(0.5)\n",
    "        else:\n",
    "            # 수집된 값이 없다면 False를 반환합니다.\n",
    "            # False 반환 시 수집한 리스트를 반환하도록 합니다.\n",
    "            return page_list\n",
    "    return page_list"
   ]
  },
  {
   "cell_type": "code",
   "execution_count": 51,
   "metadata": {},
   "outputs": [
    {
     "data": {
      "text/plain": [
       "150"
      ]
     },
     "execution_count": 51,
     "metadata": {},
     "output_type": "execute_result"
    }
   ],
   "source": [
    "# 따로 설정하지 않으면 end_page 변수에 들어있는 숫자가 마지막 페이지가 됩니다.\n",
    "end_page"
   ]
  },
  {
   "cell_type": "code",
   "execution_count": 52,
   "metadata": {},
   "outputs": [
    {
     "name": "stderr",
     "output_type": "stream",
     "text": [
      " 99%|███████████████████████████████████████████████████████████████████████████████▍| 149/150 [02:17<00:00,  1.09it/s]\n"
     ]
    },
    {
     "data": {
      "text/plain": [
       "[                                   0      1           2     3  4  \\\n",
       " 0   <p class='corona19_no'>24880</p>  80045  2021-02-03   타시도  -   \n",
       " 1   <p class='corona19_no'>24879</p>  79937  2021-02-04   동작구  -   \n",
       " 2   <p class='corona19_no'>24878</p>  80125  2021-02-04  동대문구  -   \n",
       " 3   <p class='corona19_no'>24877</p>  80120  2021-02-04   광진구  -   \n",
       " 4   <p class='corona19_no'>24876</p>  80129  2021-02-04   광진구  -   \n",
       " ..                               ...    ...         ...   ... ..   \n",
       " 95  <p class='corona19_no'>24785</p>  79953  2021-02-04   타시도  -   \n",
       " 96  <p class='corona19_no'>24784</p>  79791  2021-02-04   관악구  -   \n",
       " 97  <p class='corona19_no'>24783</p>  79793  2021-02-04   관악구  -   \n",
       " 98  <p class='corona19_no'>24782</p>  79872  2021-02-04   강북구  -   \n",
       " 99  <p class='corona19_no'>24781</p>  78128  2021-02-04   강북구  -   \n",
       " \n",
       "                 5                        6  \n",
       " 0        감염경로 조사중         <b class=''></b>  \n",
       " 1       기타 확진자 접촉         <b class=''></b>  \n",
       " 2       기타 확진자 접촉         <b class=''></b>  \n",
       " 3       기타 확진자 접촉         <b class=''></b>  \n",
       " 4        감염경로 조사중         <b class=''></b>  \n",
       " ..            ...                      ...  \n",
       " 95       감염경로 조사중  <b class='status2'></b>  \n",
       " 96       감염경로 조사중  <b class='status2'></b>  \n",
       " 97       감염경로 조사중  <b class='status2'></b>  \n",
       " 98  중구 소재 콜센터4 관련  <b class='status2'></b>  \n",
       " 99      기타 확진자 접촉  <b class='status2'></b>  \n",
       " \n",
       " [100 rows x 7 columns]]"
      ]
     },
     "execution_count": 52,
     "metadata": {},
     "output_type": "execute_result"
    }
   ],
   "source": [
    "# 시작페이지와 끝페이지를 꼭 확인해 주세요.\n",
    "start_page = 1\n",
    "# end_page = 88\n",
    "page_list = get_multi_page_list(start_page, end_page)\n",
    "# 데이터가 너무 많기 때문에 슬라이싱으로 1개만 미리보기\n",
    "page_list[:1]"
   ]
  },
  {
   "cell_type": "code",
   "execution_count": 53,
   "metadata": {},
   "outputs": [
    {
     "data": {
      "text/plain": [
       "(14880, 7)"
      ]
     },
     "execution_count": 53,
     "metadata": {},
     "output_type": "execute_result"
    }
   ],
   "source": [
    "# concat을 통해 하나의 데이터프레임으로 합쳐줍니다.\n",
    "df_all = pd.concat(page_list)\n",
    "df_all.shape"
   ]
  },
  {
   "cell_type": "code",
   "execution_count": 54,
   "metadata": {},
   "outputs": [
    {
     "data": {
      "text/html": [
       "<div>\n",
       "<style scoped>\n",
       "    .dataframe tbody tr th:only-of-type {\n",
       "        vertical-align: middle;\n",
       "    }\n",
       "\n",
       "    .dataframe tbody tr th {\n",
       "        vertical-align: top;\n",
       "    }\n",
       "\n",
       "    .dataframe thead th {\n",
       "        text-align: right;\n",
       "    }\n",
       "</style>\n",
       "<table border=\"1\" class=\"dataframe\">\n",
       "  <thead>\n",
       "    <tr style=\"text-align: right;\">\n",
       "      <th></th>\n",
       "      <th>연번</th>\n",
       "      <th>환자</th>\n",
       "      <th>확진일</th>\n",
       "      <th>거주지</th>\n",
       "      <th>여행력</th>\n",
       "      <th>접촉력</th>\n",
       "      <th>퇴원현황</th>\n",
       "    </tr>\n",
       "  </thead>\n",
       "  <tbody>\n",
       "  </tbody>\n",
       "</table>\n",
       "</div>"
      ],
      "text/plain": [
       "Empty DataFrame\n",
       "Columns: [연번, 환자, 확진일, 거주지, 여행력, 접촉력, 퇴원현황]\n",
       "Index: []"
      ]
     },
     "execution_count": 54,
     "metadata": {},
     "output_type": "execute_result"
    }
   ],
   "source": [
    "df"
   ]
  },
  {
   "cell_type": "code",
   "execution_count": 55,
   "metadata": {},
   "outputs": [],
   "source": [
    "# read_html 로 읽어온 3번째 테이블의 컬럼명을 수집한 데이터의 컬럼으로 사용합니다.\n",
    "cols = df.columns.tolist()"
   ]
  },
  {
   "cell_type": "code",
   "execution_count": 56,
   "metadata": {},
   "outputs": [],
   "source": [
    "df_all.columns = cols"
   ]
  },
  {
   "cell_type": "code",
   "execution_count": 57,
   "metadata": {},
   "outputs": [
    {
     "data": {
      "text/html": [
       "<div>\n",
       "<style scoped>\n",
       "    .dataframe tbody tr th:only-of-type {\n",
       "        vertical-align: middle;\n",
       "    }\n",
       "\n",
       "    .dataframe tbody tr th {\n",
       "        vertical-align: top;\n",
       "    }\n",
       "\n",
       "    .dataframe thead th {\n",
       "        text-align: right;\n",
       "    }\n",
       "</style>\n",
       "<table border=\"1\" class=\"dataframe\">\n",
       "  <thead>\n",
       "    <tr style=\"text-align: right;\">\n",
       "      <th></th>\n",
       "      <th>연번</th>\n",
       "      <th>환자</th>\n",
       "      <th>확진일</th>\n",
       "      <th>거주지</th>\n",
       "      <th>여행력</th>\n",
       "      <th>접촉력</th>\n",
       "      <th>퇴원현황</th>\n",
       "    </tr>\n",
       "  </thead>\n",
       "  <tbody>\n",
       "    <tr>\n",
       "      <th>0</th>\n",
       "      <td>&lt;p class='corona19_no'&gt;24880&lt;/p&gt;</td>\n",
       "      <td>80045</td>\n",
       "      <td>2021-02-03</td>\n",
       "      <td>타시도</td>\n",
       "      <td>-</td>\n",
       "      <td>감염경로 조사중</td>\n",
       "      <td>&lt;b class=''&gt;&lt;/b&gt;</td>\n",
       "    </tr>\n",
       "    <tr>\n",
       "      <th>1</th>\n",
       "      <td>&lt;p class='corona19_no'&gt;24879&lt;/p&gt;</td>\n",
       "      <td>79937</td>\n",
       "      <td>2021-02-04</td>\n",
       "      <td>동작구</td>\n",
       "      <td>-</td>\n",
       "      <td>기타 확진자 접촉</td>\n",
       "      <td>&lt;b class=''&gt;&lt;/b&gt;</td>\n",
       "    </tr>\n",
       "    <tr>\n",
       "      <th>2</th>\n",
       "      <td>&lt;p class='corona19_no'&gt;24878&lt;/p&gt;</td>\n",
       "      <td>80125</td>\n",
       "      <td>2021-02-04</td>\n",
       "      <td>동대문구</td>\n",
       "      <td>-</td>\n",
       "      <td>기타 확진자 접촉</td>\n",
       "      <td>&lt;b class=''&gt;&lt;/b&gt;</td>\n",
       "    </tr>\n",
       "    <tr>\n",
       "      <th>3</th>\n",
       "      <td>&lt;p class='corona19_no'&gt;24877&lt;/p&gt;</td>\n",
       "      <td>80120</td>\n",
       "      <td>2021-02-04</td>\n",
       "      <td>광진구</td>\n",
       "      <td>-</td>\n",
       "      <td>기타 확진자 접촉</td>\n",
       "      <td>&lt;b class=''&gt;&lt;/b&gt;</td>\n",
       "    </tr>\n",
       "    <tr>\n",
       "      <th>4</th>\n",
       "      <td>&lt;p class='corona19_no'&gt;24876&lt;/p&gt;</td>\n",
       "      <td>80129</td>\n",
       "      <td>2021-02-04</td>\n",
       "      <td>광진구</td>\n",
       "      <td>-</td>\n",
       "      <td>감염경로 조사중</td>\n",
       "      <td>&lt;b class=''&gt;&lt;/b&gt;</td>\n",
       "    </tr>\n",
       "  </tbody>\n",
       "</table>\n",
       "</div>"
      ],
      "text/plain": [
       "                                 연번     환자         확진일   거주지 여행력        접촉력  \\\n",
       "0  <p class='corona19_no'>24880</p>  80045  2021-02-03   타시도   -   감염경로 조사중   \n",
       "1  <p class='corona19_no'>24879</p>  79937  2021-02-04   동작구   -  기타 확진자 접촉   \n",
       "2  <p class='corona19_no'>24878</p>  80125  2021-02-04  동대문구   -  기타 확진자 접촉   \n",
       "3  <p class='corona19_no'>24877</p>  80120  2021-02-04   광진구   -  기타 확진자 접촉   \n",
       "4  <p class='corona19_no'>24876</p>  80129  2021-02-04   광진구   -   감염경로 조사중   \n",
       "\n",
       "               퇴원현황  \n",
       "0  <b class=''></b>  \n",
       "1  <b class=''></b>  \n",
       "2  <b class=''></b>  \n",
       "3  <b class=''></b>  \n",
       "4  <b class=''></b>  "
      ]
     },
     "execution_count": 57,
     "metadata": {},
     "output_type": "execute_result"
    }
   ],
   "source": [
    "df_all.head()"
   ]
  },
  {
   "cell_type": "markdown",
   "metadata": {},
   "source": [
    "# 데이터 전처리"
   ]
  },
  {
   "cell_type": "code",
   "execution_count": 58,
   "metadata": {},
   "outputs": [],
   "source": [
    "import re\n",
    "def extract_number(num_string):\n",
    "    if type(num_string) == str:\n",
    "        num_string = num_string.replace(\"corona19\", \"\")\n",
    "        num = re.sub(\"[^0-9]\", \"\", num_string)\n",
    "        num = int(num)\n",
    "        return num\n",
    "    else:\n",
    "        return num_string"
   ]
  },
  {
   "cell_type": "code",
   "execution_count": 59,
   "metadata": {},
   "outputs": [
    {
     "data": {
      "text/plain": [
       "7625"
      ]
     },
     "execution_count": 59,
     "metadata": {},
     "output_type": "execute_result"
    }
   ],
   "source": [
    "num_string = \"<p class='corona19_no'>7625</p>\"\n",
    "extract_number(num_string)"
   ]
  },
  {
   "cell_type": "code",
   "execution_count": 60,
   "metadata": {},
   "outputs": [],
   "source": [
    "df_all[\"연번\"] = df_all[\"연번\"].map(extract_number)"
   ]
  },
  {
   "cell_type": "code",
   "execution_count": 61,
   "metadata": {},
   "outputs": [
    {
     "data": {
      "text/plain": [
       "0    24880\n",
       "1    24879\n",
       "2    24878\n",
       "3    24877\n",
       "4    24876\n",
       "Name: 연번, dtype: int64"
      ]
     },
     "execution_count": 61,
     "metadata": {},
     "output_type": "execute_result"
    }
   ],
   "source": [
    "df_all[\"연번\"].head()"
   ]
  },
  {
   "cell_type": "code",
   "execution_count": 62,
   "metadata": {},
   "outputs": [],
   "source": [
    "def extract_hangeul(origin_text):\n",
    "    subtract_text = re.sub(\"[^가-힣]\", \"\", origin_text)\n",
    "    return subtract_text"
   ]
  },
  {
   "cell_type": "code",
   "execution_count": 63,
   "metadata": {},
   "outputs": [
    {
     "data": {
      "text/plain": [
       "'퇴원'"
      ]
     },
     "execution_count": 63,
     "metadata": {},
     "output_type": "execute_result"
    }
   ],
   "source": [
    "extract_hangeul(\"<b class='status1'>퇴원</b>\")"
   ]
  },
  {
   "cell_type": "code",
   "execution_count": 64,
   "metadata": {},
   "outputs": [
    {
     "data": {
      "text/plain": [
       "'사망'"
      ]
     },
     "execution_count": 64,
     "metadata": {},
     "output_type": "execute_result"
    }
   ],
   "source": [
    "extract_hangeul(\"<b class='status2'>사망</b>\")"
   ]
  },
  {
   "cell_type": "code",
   "execution_count": 65,
   "metadata": {},
   "outputs": [
    {
     "data": {
      "text/plain": [
       "''"
      ]
     },
     "execution_count": 65,
     "metadata": {},
     "output_type": "execute_result"
    }
   ],
   "source": [
    "extract_hangeul(\"<b class=''></b>\")"
   ]
  },
  {
   "cell_type": "code",
   "execution_count": 66,
   "metadata": {},
   "outputs": [],
   "source": [
    "# 정규표현식으로 변경하는 방법도 있고 str.contains를 사용하는 방법도 있습니다.\n",
    "# df_all[\"퇴원현황\"] = df_all[\"퇴원현황\"].map(extract_hangeul)\n",
    "# df_all[\"퇴원현황\"].value_counts()"
   ]
  },
  {
   "cell_type": "code",
   "execution_count": 67,
   "metadata": {},
   "outputs": [
    {
     "data": {
      "text/plain": [
       "<b class='status1'>퇴원</b>    11114\n",
       "<b class='status1'></b>       2573\n",
       "<b class=''></b>               873\n",
       "<b class='status2'>사망</b>      188\n",
       "<b class='status2'></b>        132\n",
       "Name: 퇴원현황, dtype: int64"
      ]
     },
     "execution_count": 67,
     "metadata": {},
     "output_type": "execute_result"
    }
   ],
   "source": [
    "df_all[\"퇴원현황\"].value_counts()"
   ]
  },
  {
   "cell_type": "code",
   "execution_count": 69,
   "metadata": {},
   "outputs": [
    {
     "data": {
      "text/plain": [
       "퇴원    11114\n",
       "사망      188\n",
       "Name: 퇴원현황, dtype: int64"
      ]
     },
     "execution_count": 69,
     "metadata": {},
     "output_type": "execute_result"
    }
   ],
   "source": [
    "import numpy as np\n",
    "df_all.loc[df_all[\"퇴원현황\"].str.contains(\"퇴원\"), \"퇴원현황\"] = \"퇴원\"\n",
    "df_all.loc[df_all[\"퇴원현황\"].str.contains(\"사망\"), \"퇴원현황\"] = \"사망\"\n",
    "df_all.loc[~df_all[\"퇴원현황\"].str.contains(\"퇴원|사망\"), \"퇴원현황\"] = np.nan\n",
    "df_all[\"퇴원현황\"].value_counts()"
   ]
  },
  {
   "cell_type": "code",
   "execution_count": 70,
   "metadata": {},
   "outputs": [
    {
     "data": {
      "text/plain": [
       "'2021-02-03'"
      ]
     },
     "execution_count": 70,
     "metadata": {},
     "output_type": "execute_result"
    }
   ],
   "source": [
    "last_date = df_all.iloc[0][\"확진일\"]\n",
    "last_date"
   ]
  },
  {
   "cell_type": "code",
   "execution_count": 71,
   "metadata": {},
   "outputs": [
    {
     "data": {
      "text/plain": [
       "'2021-02-03'"
      ]
     },
     "execution_count": 71,
     "metadata": {},
     "output_type": "execute_result"
    }
   ],
   "source": [
    "# 마지막 확진일을 파일명에 써주기 위해 . 을 _ 로 변경합니다.\n",
    "# 확장자와 구분이 쉽게 되도록 _ 로 변경합니다. \n",
    "\n",
    "date = last_date.replace(\".\", \"_\")\n",
    "date"
   ]
  },
  {
   "cell_type": "code",
   "execution_count": 72,
   "metadata": {},
   "outputs": [
    {
     "data": {
      "text/plain": [
       "'seoul-covid19-2021-02-03.csv'"
      ]
     },
     "execution_count": 72,
     "metadata": {},
     "output_type": "execute_result"
    }
   ],
   "source": [
    "# 파일명을 만들어 줍니다.\n",
    "# file_name\n",
    "\n",
    "file_name = f\"seoul-covid19-{date}.csv\"\n",
    "file_name"
   ]
  },
  {
   "cell_type": "code",
   "execution_count": 73,
   "metadata": {},
   "outputs": [],
   "source": [
    "# csv 파일로 저장합니다.\n",
    "df_all.to_csv(file_name, index=False)"
   ]
  },
  {
   "cell_type": "code",
   "execution_count": 74,
   "metadata": {},
   "outputs": [
    {
     "data": {
      "text/html": [
       "<div>\n",
       "<style scoped>\n",
       "    .dataframe tbody tr th:only-of-type {\n",
       "        vertical-align: middle;\n",
       "    }\n",
       "\n",
       "    .dataframe tbody tr th {\n",
       "        vertical-align: top;\n",
       "    }\n",
       "\n",
       "    .dataframe thead th {\n",
       "        text-align: right;\n",
       "    }\n",
       "</style>\n",
       "<table border=\"1\" class=\"dataframe\">\n",
       "  <thead>\n",
       "    <tr style=\"text-align: right;\">\n",
       "      <th></th>\n",
       "      <th>연번</th>\n",
       "      <th>환자</th>\n",
       "      <th>확진일</th>\n",
       "      <th>거주지</th>\n",
       "      <th>여행력</th>\n",
       "      <th>접촉력</th>\n",
       "      <th>퇴원현황</th>\n",
       "    </tr>\n",
       "  </thead>\n",
       "  <tbody>\n",
       "    <tr>\n",
       "      <th>0</th>\n",
       "      <td>24880</td>\n",
       "      <td>80045</td>\n",
       "      <td>2021-02-03</td>\n",
       "      <td>타시도</td>\n",
       "      <td>-</td>\n",
       "      <td>감염경로 조사중</td>\n",
       "      <td>NaN</td>\n",
       "    </tr>\n",
       "    <tr>\n",
       "      <th>1</th>\n",
       "      <td>24879</td>\n",
       "      <td>79937</td>\n",
       "      <td>2021-02-04</td>\n",
       "      <td>동작구</td>\n",
       "      <td>-</td>\n",
       "      <td>기타 확진자 접촉</td>\n",
       "      <td>NaN</td>\n",
       "    </tr>\n",
       "    <tr>\n",
       "      <th>2</th>\n",
       "      <td>24878</td>\n",
       "      <td>80125</td>\n",
       "      <td>2021-02-04</td>\n",
       "      <td>동대문구</td>\n",
       "      <td>-</td>\n",
       "      <td>기타 확진자 접촉</td>\n",
       "      <td>NaN</td>\n",
       "    </tr>\n",
       "    <tr>\n",
       "      <th>3</th>\n",
       "      <td>24877</td>\n",
       "      <td>80120</td>\n",
       "      <td>2021-02-04</td>\n",
       "      <td>광진구</td>\n",
       "      <td>-</td>\n",
       "      <td>기타 확진자 접촉</td>\n",
       "      <td>NaN</td>\n",
       "    </tr>\n",
       "    <tr>\n",
       "      <th>4</th>\n",
       "      <td>24876</td>\n",
       "      <td>80129</td>\n",
       "      <td>2021-02-04</td>\n",
       "      <td>광진구</td>\n",
       "      <td>-</td>\n",
       "      <td>감염경로 조사중</td>\n",
       "      <td>NaN</td>\n",
       "    </tr>\n",
       "    <tr>\n",
       "      <th>...</th>\n",
       "      <td>...</td>\n",
       "      <td>...</td>\n",
       "      <td>...</td>\n",
       "      <td>...</td>\n",
       "      <td>...</td>\n",
       "      <td>...</td>\n",
       "      <td>...</td>\n",
       "    </tr>\n",
       "    <tr>\n",
       "      <th>14875</th>\n",
       "      <td>10005</td>\n",
       "      <td>37079</td>\n",
       "      <td>2020-12-05</td>\n",
       "      <td>성북구</td>\n",
       "      <td>-</td>\n",
       "      <td>타시도 확진자 접촉</td>\n",
       "      <td>퇴원</td>\n",
       "    </tr>\n",
       "    <tr>\n",
       "      <th>14876</th>\n",
       "      <td>10004</td>\n",
       "      <td>36987</td>\n",
       "      <td>2020-12-05</td>\n",
       "      <td>구로구</td>\n",
       "      <td>-</td>\n",
       "      <td>기타 확진자 접촉</td>\n",
       "      <td>퇴원</td>\n",
       "    </tr>\n",
       "    <tr>\n",
       "      <th>14877</th>\n",
       "      <td>10003</td>\n",
       "      <td>37010</td>\n",
       "      <td>2020-12-05</td>\n",
       "      <td>노원구</td>\n",
       "      <td>-</td>\n",
       "      <td>기타 확진자 접촉</td>\n",
       "      <td>퇴원</td>\n",
       "    </tr>\n",
       "    <tr>\n",
       "      <th>14878</th>\n",
       "      <td>10002</td>\n",
       "      <td>37094</td>\n",
       "      <td>2020-12-05</td>\n",
       "      <td>노원구</td>\n",
       "      <td>-</td>\n",
       "      <td>감염경로 조사중</td>\n",
       "      <td>퇴원</td>\n",
       "    </tr>\n",
       "    <tr>\n",
       "      <th>14879</th>\n",
       "      <td>10001</td>\n",
       "      <td>37213</td>\n",
       "      <td>2020-12-05</td>\n",
       "      <td>금천구</td>\n",
       "      <td>-</td>\n",
       "      <td>구로구 소재 보험회사 관련</td>\n",
       "      <td>퇴원</td>\n",
       "    </tr>\n",
       "  </tbody>\n",
       "</table>\n",
       "<p>14880 rows × 7 columns</p>\n",
       "</div>"
      ],
      "text/plain": [
       "          연번     환자         확진일   거주지 여행력             접촉력 퇴원현황\n",
       "0      24880  80045  2021-02-03   타시도   -        감염경로 조사중  NaN\n",
       "1      24879  79937  2021-02-04   동작구   -       기타 확진자 접촉  NaN\n",
       "2      24878  80125  2021-02-04  동대문구   -       기타 확진자 접촉  NaN\n",
       "3      24877  80120  2021-02-04   광진구   -       기타 확진자 접촉  NaN\n",
       "4      24876  80129  2021-02-04   광진구   -        감염경로 조사중  NaN\n",
       "...      ...    ...         ...   ...  ..             ...  ...\n",
       "14875  10005  37079  2020-12-05   성북구   -      타시도 확진자 접촉   퇴원\n",
       "14876  10004  36987  2020-12-05   구로구   -       기타 확진자 접촉   퇴원\n",
       "14877  10003  37010  2020-12-05   노원구   -       기타 확진자 접촉   퇴원\n",
       "14878  10002  37094  2020-12-05   노원구   -        감염경로 조사중   퇴원\n",
       "14879  10001  37213  2020-12-05   금천구   -  구로구 소재 보험회사 관련   퇴원\n",
       "\n",
       "[14880 rows x 7 columns]"
      ]
     },
     "execution_count": 74,
     "metadata": {},
     "output_type": "execute_result"
    }
   ],
   "source": [
    "# 제대로 저장되었는지 확인합니다.\n",
    "pd.read_csv(file_name)"
   ]
  },
  {
   "cell_type": "code",
   "execution_count": null,
   "metadata": {},
   "outputs": [],
   "source": []
  }
 ],
 "metadata": {
  "kernelspec": {
   "display_name": "Python 3",
   "language": "python",
   "name": "python3"
  },
  "language_info": {
   "codemirror_mode": {
    "name": "ipython",
    "version": 3
   },
   "file_extension": ".py",
   "mimetype": "text/x-python",
   "name": "python",
   "nbconvert_exporter": "python",
   "pygments_lexer": "ipython3",
   "version": "3.8.3"
  }
 },
 "nbformat": 4,
 "nbformat_minor": 4
}
