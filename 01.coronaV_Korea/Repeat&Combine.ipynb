{
 "cells": [
  {
   "cell_type": "code",
   "execution_count": 43,
   "metadata": {},
   "outputs": [],
   "source": [
    "import requests\n",
    "import pandas as pd\n",
    "import requests\n",
    "# time.sleep 으로 시차를 두기 위해\n",
    "import time\n",
    "# tqdm : 진행상태를 표시하기 위해\n",
    "from tqdm import trange"
   ]
  },
  {
   "cell_type": "code",
   "execution_count": 54,
   "metadata": {},
   "outputs": [
    {
     "data": {
      "text/html": [
       "<div>\n",
       "<style scoped>\n",
       "    .dataframe tbody tr th:only-of-type {\n",
       "        vertical-align: middle;\n",
       "    }\n",
       "\n",
       "    .dataframe tbody tr th {\n",
       "        vertical-align: top;\n",
       "    }\n",
       "\n",
       "    .dataframe thead th {\n",
       "        text-align: right;\n",
       "    }\n",
       "</style>\n",
       "<table border=\"1\" class=\"dataframe\">\n",
       "  <thead>\n",
       "    <tr style=\"text-align: right;\">\n",
       "      <th></th>\n",
       "      <th>연번</th>\n",
       "      <th>환자</th>\n",
       "      <th>확진일</th>\n",
       "      <th>거주지</th>\n",
       "      <th>여행력</th>\n",
       "      <th>접촉력</th>\n",
       "      <th>퇴원현황</th>\n",
       "    </tr>\n",
       "  </thead>\n",
       "  <tbody>\n",
       "  </tbody>\n",
       "</table>\n",
       "</div>"
      ],
      "text/plain": [
       "Empty DataFrame\n",
       "Columns: [연번, 환자, 확진일, 거주지, 여행력, 접촉력, 퇴원현황]\n",
       "Index: []"
      ]
     },
     "execution_count": 54,
     "metadata": {},
     "output_type": "execute_result"
    }
   ],
   "source": [
    "url = \"http://www.seoul.go.kr/coronaV/coronaStatus.do\"\n",
    "url\n",
    "table = pd.read_html(url)\n",
    "df = table[3]\n",
    "df.head()"
   ]
  },
  {
   "cell_type": "code",
   "execution_count": 4,
   "metadata": {},
   "outputs": [
    {
     "data": {
      "text/plain": [
       "'https://news.seoul.go.kr/api/27/getCorona19Status/get_status_ajax_pre.php?draw=1&start=100&length=100'"
      ]
     },
     "execution_count": 4,
     "metadata": {},
     "output_type": "execute_result"
    }
   ],
   "source": [
    "# f-string\n",
    "\n",
    "url1 = \"https://news.seoul.go.kr/api/27/getCorona19Status/get_status_ajax_pre.php?draw=1\"\n",
    "# url2 = f\"{url2}&columns%5B0%5D%5Bdata%5D=0&columns%5B0%5D%5Bname%5D=&columns%5B0%5D%5Bsearchable%5D=true&columns%5B0%5D%5Borderable%5D=true&columns%5B0%5D%5Bsearch%5D%5Bvalue%5D=&columns%5B0%5D%5Bsearch%5D%5Bregex%5D=false&columns%5B1%5D%5Bdata%5D=1&columns%5B1%5D%5Bname%5D=&columns%5B1%5D%5Bsearchable%5D=true&columns%5B1%5D%5Borderable%5D=true&columns%5B1%5D%5Bsearch%5D%5Bvalue%5D=&columns%5B1%5D%5Bsearch%5D%5Bregex%5D=false&columns%5B2%5D%5Bdata%5D=2&columns%5B2%5D%5Bname%5D=&columns%5B2%5D%5Bsearchable%5D=true&columns%5B2%5D%5Borderable%5D=true&columns%5B2%5D%5Bsearch%5D%5Bvalue%5D=&columns%5B2%5D%5Bsearch%5D%5Bregex%5D=false&columns%5B3%5D%5Bdata%5D=3&columns%5B3%5D%5Bname%5D=&columns%5B3%5D%5Bsearchable%5D=true&columns%5B3%5D%5Borderable%5D=true&columns%5B3%5D%5Bsearch%5D%5Bvalue%5D=&columns%5B3%5D%5Bsearch%5D%5Bregex%5D=false&columns%5B4%5D%5Bdata%5D=4&columns%5B4%5D%5Bname%5D=&columns%5B4%5D%5Bsearchable%5D=true&columns%5B4%5D%5Borderable%5D=true&columns%5B4%5D%5Bsearch%5D%5Bvalue%5D=&columns%5B4%5D%5Bsearch%5D%5Bregex%5D=false&columns%5B5%5D%5Bdata%5D=5&columns%5B5%5D%5Bname%5D=&columns%5B5%5D%5Bsearchable%5D=true&columns%5B5%5D%5Borderable%5D=true&columns%5B5%5D%5Bsearch%5D%5Bvalue%5D=&columns%5B5%5D%5Bsearch%5D%5Bregex%5D=false&columns%5B6%5D%5Bdata%5D=6&columns%5B6%5D%5Bname%5D=&columns%5B6%5D%5Bsearchable%5D=true&columns%5B6%5D%5Borderable%5D=true&columns%5B6%5D%5Bsearch%5D%5Bvalue%5D=&columns%5B6%5D%5Bsearch%5D%5Bregex%5D=false&order%5B0%5D%5Bcolumn%5D=0&order%5B0%5D%5Bdir%5D=desc\n",
    "url1 = f\"{url1}&start=100&length=100\"\n",
    "# url2 = \"&search%5Bvalue%5D=&search%5Bregex%5D=true&_=1612502263521\"\n",
    "url1"
   ]
  },
  {
   "cell_type": "code",
   "execution_count": 5,
   "metadata": {},
   "outputs": [
    {
     "data": {
      "text/plain": [
       "'https://news.seoul.go.kr/api/27/getCorona19Status/get_status_ajax.php?draw=1&start=0&length=100'"
      ]
     },
     "execution_count": 5,
     "metadata": {},
     "output_type": "execute_result"
    }
   ],
   "source": [
    "# f-string\n",
    "\n",
    "url2 = \"https://news.seoul.go.kr/api/27/getCorona19Status/get_status_ajax.php?draw=1\"\n",
    "# url = f\"{url}&columns%5B0%5D%5Bdata%5D=0&columns%5B0%5D%5Bname%5D=&columns%5B0%5D%5Bsearchable%5D=true&columns%5B0%5D%5Borderable%5D=true&columns%5B0%5D%5Bsearch%5D%5Bvalue%5D=&columns%5B0%5D%5Bsearch%5D%5Bregex%5D=false&columns%5B1%5D%5Bdata%5D=1&columns%5B1%5D%5Bname%5D=&columns%5B1%5D%5Bsearchable%5D=true&columns%5B1%5D%5Borderable%5D=true&columns%5B1%5D%5Bsearch%5D%5Bvalue%5D=&columns%5B1%5D%5Bsearch%5D%5Bregex%5D=false&columns%5B2%5D%5Bdata%5D=2&columns%5B2%5D%5Bname%5D=&columns%5B2%5D%5Bsearchable%5D=true&columns%5B2%5D%5Borderable%5D=true&columns%5B2%5D%5Bsearch%5D%5Bvalue%5D=&columns%5B2%5D%5Bsearch%5D%5Bregex%5D=false&columns%5B3%5D%5Bdata%5D=3&columns%5B3%5D%5Bname%5D=&columns%5B3%5D%5Bsearchable%5D=true&columns%5B3%5D%5Borderable%5D=true&columns%5B3%5D%5Bsearch%5D%5Bvalue%5D=&columns%5B3%5D%5Bsearch%5D%5Bregex%5D=false&columns%5B4%5D%5Bdata%5D=4&columns%5B4%5D%5Bname%5D=&columns%5B4%5D%5Bsearchable%5D=true&columns%5B4%5D%5Borderable%5D=true&columns%5B4%5D%5Bsearch%5D%5Bvalue%5D=&columns%5B4%5D%5Bsearch%5D%5Bregex%5D=false&columns%5B5%5D%5Bdata%5D=5&columns%5B5%5D%5Bname%5D=&columns%5B5%5D%5Bsearchable%5D=true&columns%5B5%5D%5Borderable%5D=true&columns%5B5%5D%5Bsearch%5D%5Bvalue%5D=&columns%5B5%5D%5Bsearch%5D%5Bregex%5D=false&columns%5B6%5D%5Bdata%5D=6&columns%5B6%5D%5Bname%5D=&columns%5B6%5D%5Bsearchable%5D=true&columns%5B6%5D%5Borderable%5D=true&columns%5B6%5D%5Bsearch%5D%5Bvalue%5D=&columns%5B6%5D%5Bsearch%5D%5Bregex%5D=false&order%5B0%5D%5Bcolumn%5D=0&order%5B0%5D%5Bdir%5D=desc\n",
    "url2 = f\"{url2}&start=0&length=100\"\n",
    "# url\"&search%5Bvalue%5D=&search%5Bregex%5D=true&_=1612502263512\"\n",
    "url2"
   ]
  },
  {
   "cell_type": "code",
   "execution_count": 29,
   "metadata": {},
   "outputs": [],
   "source": [
    "response1 = requests.get(url1)\n",
    "data_json1 = response1.json()\n",
    "# pd.DataFrame(data_json1[\"data\"])"
   ]
  },
  {
   "cell_type": "code",
   "execution_count": 30,
   "metadata": {},
   "outputs": [],
   "source": [
    "response2 = requests.get(url2)\n",
    "data_json2 = response2.json()\n",
    "# pd.DataFrame(data_json2[\"data\"])"
   ]
  },
  {
   "cell_type": "code",
   "execution_count": 31,
   "metadata": {},
   "outputs": [
    {
     "data": {
      "text/plain": [
       "10000"
      ]
     },
     "execution_count": 31,
     "metadata": {},
     "output_type": "execute_result"
    }
   ],
   "source": [
    "records_total1 = data_json1['recordsTotal']\n",
    "records_total1"
   ]
  },
  {
   "cell_type": "code",
   "execution_count": 32,
   "metadata": {},
   "outputs": [
    {
     "data": {
      "text/plain": [
       "14880"
      ]
     },
     "execution_count": 32,
     "metadata": {},
     "output_type": "execute_result"
    }
   ],
   "source": [
    "records_total2 = data_json2['recordsTotal']\n",
    "records_total2"
   ]
  },
  {
   "cell_type": "code",
   "execution_count": 34,
   "metadata": {},
   "outputs": [
    {
     "data": {
      "text/plain": [
       "101"
      ]
     },
     "execution_count": 34,
     "metadata": {},
     "output_type": "execute_result"
    }
   ],
   "source": [
    "end_page1 = round(records_total1 / 100) + 1\n",
    "end_page1"
   ]
  },
  {
   "cell_type": "code",
   "execution_count": 35,
   "metadata": {},
   "outputs": [
    {
     "data": {
      "text/plain": [
       "150"
      ]
     },
     "execution_count": 35,
     "metadata": {},
     "output_type": "execute_result"
    }
   ],
   "source": [
    "end_page2 = round(records_total2 / 100) + 1\n",
    "end_page2"
   ]
  },
  {
   "cell_type": "code",
   "execution_count": 36,
   "metadata": {},
   "outputs": [],
   "source": [
    "data1 = data_json1[\"data\"]\n",
    "data2 = data_json2[\"data\"]"
   ]
  },
  {
   "cell_type": "code",
   "execution_count": 37,
   "metadata": {},
   "outputs": [
    {
     "data": {
      "text/html": [
       "<div>\n",
       "<style scoped>\n",
       "    .dataframe tbody tr th:only-of-type {\n",
       "        vertical-align: middle;\n",
       "    }\n",
       "\n",
       "    .dataframe tbody tr th {\n",
       "        vertical-align: top;\n",
       "    }\n",
       "\n",
       "    .dataframe thead th {\n",
       "        text-align: right;\n",
       "    }\n",
       "</style>\n",
       "<table border=\"1\" class=\"dataframe\">\n",
       "  <thead>\n",
       "    <tr style=\"text-align: right;\">\n",
       "      <th></th>\n",
       "      <th>0</th>\n",
       "      <th>1</th>\n",
       "      <th>2</th>\n",
       "      <th>3</th>\n",
       "      <th>4</th>\n",
       "      <th>5</th>\n",
       "      <th>6</th>\n",
       "    </tr>\n",
       "  </thead>\n",
       "  <tbody>\n",
       "    <tr>\n",
       "      <th>0</th>\n",
       "      <td>&lt;p class='corona19_no'&gt;10000&lt;/p&gt;</td>\n",
       "      <td>37131</td>\n",
       "      <td>2020-12-05</td>\n",
       "      <td>금천구</td>\n",
       "      <td>-</td>\n",
       "      <td>구로구 소재 보험회사 관련</td>\n",
       "      <td>&lt;b class='status1'&gt;퇴원&lt;/b&gt;</td>\n",
       "    </tr>\n",
       "    <tr>\n",
       "      <th>1</th>\n",
       "      <td>&lt;p class='corona19_no'&gt;9999&lt;/p&gt;</td>\n",
       "      <td>37141</td>\n",
       "      <td>2020-12-05</td>\n",
       "      <td>금천구</td>\n",
       "      <td>-</td>\n",
       "      <td>기타 확진자 접촉</td>\n",
       "      <td>&lt;b class='status1'&gt;퇴원&lt;/b&gt;</td>\n",
       "    </tr>\n",
       "    <tr>\n",
       "      <th>2</th>\n",
       "      <td>&lt;p class='corona19_no'&gt;9998&lt;/p&gt;</td>\n",
       "      <td>37541</td>\n",
       "      <td>2020-12-05</td>\n",
       "      <td>송파구</td>\n",
       "      <td>-</td>\n",
       "      <td>기타 확진자 접촉</td>\n",
       "      <td>&lt;b class='status1'&gt;퇴원&lt;/b&gt;</td>\n",
       "    </tr>\n",
       "    <tr>\n",
       "      <th>3</th>\n",
       "      <td>&lt;p class='corona19_no'&gt;9997&lt;/p&gt;</td>\n",
       "      <td>37542</td>\n",
       "      <td>2020-12-05</td>\n",
       "      <td>송파구</td>\n",
       "      <td>-</td>\n",
       "      <td>기타 확진자 접촉</td>\n",
       "      <td>&lt;b class='status1'&gt;퇴원&lt;/b&gt;</td>\n",
       "    </tr>\n",
       "    <tr>\n",
       "      <th>4</th>\n",
       "      <td>&lt;p class='corona19_no'&gt;9996&lt;/p&gt;</td>\n",
       "      <td>37087</td>\n",
       "      <td>2020-12-05</td>\n",
       "      <td>서초구</td>\n",
       "      <td>-</td>\n",
       "      <td>기타 확진자 접촉</td>\n",
       "      <td>&lt;b class='status1'&gt;퇴원&lt;/b&gt;</td>\n",
       "    </tr>\n",
       "    <tr>\n",
       "      <th>...</th>\n",
       "      <td>...</td>\n",
       "      <td>...</td>\n",
       "      <td>...</td>\n",
       "      <td>...</td>\n",
       "      <td>...</td>\n",
       "      <td>...</td>\n",
       "      <td>...</td>\n",
       "    </tr>\n",
       "    <tr>\n",
       "      <th>95</th>\n",
       "      <td>&lt;p class='corona19_no'&gt;9905&lt;/p&gt;</td>\n",
       "      <td>36753</td>\n",
       "      <td>2020-12-04</td>\n",
       "      <td>강남구</td>\n",
       "      <td>-</td>\n",
       "      <td>강남구 소재 요양병원</td>\n",
       "      <td>&lt;b class='status1'&gt;퇴원&lt;/b&gt;</td>\n",
       "    </tr>\n",
       "    <tr>\n",
       "      <th>96</th>\n",
       "      <td>&lt;p class='corona19_no'&gt;9904&lt;/p&gt;</td>\n",
       "      <td>36734</td>\n",
       "      <td>2020-12-04</td>\n",
       "      <td>성동구</td>\n",
       "      <td>-</td>\n",
       "      <td>강남구 소재 요양병원</td>\n",
       "      <td>&lt;b class='status1'&gt;퇴원&lt;/b&gt;</td>\n",
       "    </tr>\n",
       "    <tr>\n",
       "      <th>97</th>\n",
       "      <td>&lt;p class='corona19_no'&gt;9903&lt;/p&gt;</td>\n",
       "      <td>36732</td>\n",
       "      <td>2020-12-04</td>\n",
       "      <td>서초구</td>\n",
       "      <td>-</td>\n",
       "      <td>동작구 사우나 관련</td>\n",
       "      <td>&lt;b class='status1'&gt;퇴원&lt;/b&gt;</td>\n",
       "    </tr>\n",
       "    <tr>\n",
       "      <th>98</th>\n",
       "      <td>&lt;p class='corona19_no'&gt;9902&lt;/p&gt;</td>\n",
       "      <td>36751</td>\n",
       "      <td>2020-12-04</td>\n",
       "      <td>강남구</td>\n",
       "      <td>-</td>\n",
       "      <td>강남구 소재 요양병원</td>\n",
       "      <td>&lt;b class='status1'&gt;퇴원&lt;/b&gt;</td>\n",
       "    </tr>\n",
       "    <tr>\n",
       "      <th>99</th>\n",
       "      <td>&lt;p class='corona19_no'&gt;9901&lt;/p&gt;</td>\n",
       "      <td>36727</td>\n",
       "      <td>2020-12-04</td>\n",
       "      <td>은평구</td>\n",
       "      <td>-</td>\n",
       "      <td>기타 확진자 접촉</td>\n",
       "      <td>&lt;b class='status1'&gt;퇴원&lt;/b&gt;</td>\n",
       "    </tr>\n",
       "  </tbody>\n",
       "</table>\n",
       "<p>100 rows × 7 columns</p>\n",
       "</div>"
      ],
      "text/plain": [
       "                                   0      1           2    3  4  \\\n",
       "0   <p class='corona19_no'>10000</p>  37131  2020-12-05  금천구  -   \n",
       "1    <p class='corona19_no'>9999</p>  37141  2020-12-05  금천구  -   \n",
       "2    <p class='corona19_no'>9998</p>  37541  2020-12-05  송파구  -   \n",
       "3    <p class='corona19_no'>9997</p>  37542  2020-12-05  송파구  -   \n",
       "4    <p class='corona19_no'>9996</p>  37087  2020-12-05  서초구  -   \n",
       "..                               ...    ...         ...  ... ..   \n",
       "95   <p class='corona19_no'>9905</p>  36753  2020-12-04  강남구  -   \n",
       "96   <p class='corona19_no'>9904</p>  36734  2020-12-04  성동구  -   \n",
       "97   <p class='corona19_no'>9903</p>  36732  2020-12-04  서초구  -   \n",
       "98   <p class='corona19_no'>9902</p>  36751  2020-12-04  강남구  -   \n",
       "99   <p class='corona19_no'>9901</p>  36727  2020-12-04  은평구  -   \n",
       "\n",
       "                 5                          6  \n",
       "0   구로구 소재 보험회사 관련  <b class='status1'>퇴원</b>  \n",
       "1        기타 확진자 접촉  <b class='status1'>퇴원</b>  \n",
       "2        기타 확진자 접촉  <b class='status1'>퇴원</b>  \n",
       "3        기타 확진자 접촉  <b class='status1'>퇴원</b>  \n",
       "4        기타 확진자 접촉  <b class='status1'>퇴원</b>  \n",
       "..             ...                        ...  \n",
       "95     강남구 소재 요양병원  <b class='status1'>퇴원</b>  \n",
       "96     강남구 소재 요양병원  <b class='status1'>퇴원</b>  \n",
       "97      동작구 사우나 관련  <b class='status1'>퇴원</b>  \n",
       "98     강남구 소재 요양병원  <b class='status1'>퇴원</b>  \n",
       "99       기타 확진자 접촉  <b class='status1'>퇴원</b>  \n",
       "\n",
       "[100 rows x 7 columns]"
      ]
     },
     "execution_count": 37,
     "metadata": {},
     "output_type": "execute_result"
    }
   ],
   "source": [
    "pd.DataFrame(data1)"
   ]
  },
  {
   "cell_type": "code",
   "execution_count": 38,
   "metadata": {},
   "outputs": [
    {
     "data": {
      "text/html": [
       "<div>\n",
       "<style scoped>\n",
       "    .dataframe tbody tr th:only-of-type {\n",
       "        vertical-align: middle;\n",
       "    }\n",
       "\n",
       "    .dataframe tbody tr th {\n",
       "        vertical-align: top;\n",
       "    }\n",
       "\n",
       "    .dataframe thead th {\n",
       "        text-align: right;\n",
       "    }\n",
       "</style>\n",
       "<table border=\"1\" class=\"dataframe\">\n",
       "  <thead>\n",
       "    <tr style=\"text-align: right;\">\n",
       "      <th></th>\n",
       "      <th>0</th>\n",
       "      <th>1</th>\n",
       "      <th>2</th>\n",
       "      <th>3</th>\n",
       "      <th>4</th>\n",
       "      <th>5</th>\n",
       "      <th>6</th>\n",
       "    </tr>\n",
       "  </thead>\n",
       "  <tbody>\n",
       "    <tr>\n",
       "      <th>0</th>\n",
       "      <td>&lt;p class='corona19_no'&gt;24880&lt;/p&gt;</td>\n",
       "      <td>80045</td>\n",
       "      <td>2021-02-03</td>\n",
       "      <td>타시도</td>\n",
       "      <td>-</td>\n",
       "      <td>감염경로 조사중</td>\n",
       "      <td>&lt;b class=''&gt;&lt;/b&gt;</td>\n",
       "    </tr>\n",
       "    <tr>\n",
       "      <th>1</th>\n",
       "      <td>&lt;p class='corona19_no'&gt;24879&lt;/p&gt;</td>\n",
       "      <td>79937</td>\n",
       "      <td>2021-02-04</td>\n",
       "      <td>동작구</td>\n",
       "      <td>-</td>\n",
       "      <td>기타 확진자 접촉</td>\n",
       "      <td>&lt;b class=''&gt;&lt;/b&gt;</td>\n",
       "    </tr>\n",
       "    <tr>\n",
       "      <th>2</th>\n",
       "      <td>&lt;p class='corona19_no'&gt;24878&lt;/p&gt;</td>\n",
       "      <td>80125</td>\n",
       "      <td>2021-02-04</td>\n",
       "      <td>동대문구</td>\n",
       "      <td>-</td>\n",
       "      <td>기타 확진자 접촉</td>\n",
       "      <td>&lt;b class=''&gt;&lt;/b&gt;</td>\n",
       "    </tr>\n",
       "    <tr>\n",
       "      <th>3</th>\n",
       "      <td>&lt;p class='corona19_no'&gt;24877&lt;/p&gt;</td>\n",
       "      <td>80120</td>\n",
       "      <td>2021-02-04</td>\n",
       "      <td>광진구</td>\n",
       "      <td>-</td>\n",
       "      <td>기타 확진자 접촉</td>\n",
       "      <td>&lt;b class=''&gt;&lt;/b&gt;</td>\n",
       "    </tr>\n",
       "    <tr>\n",
       "      <th>4</th>\n",
       "      <td>&lt;p class='corona19_no'&gt;24876&lt;/p&gt;</td>\n",
       "      <td>80129</td>\n",
       "      <td>2021-02-04</td>\n",
       "      <td>광진구</td>\n",
       "      <td>-</td>\n",
       "      <td>감염경로 조사중</td>\n",
       "      <td>&lt;b class=''&gt;&lt;/b&gt;</td>\n",
       "    </tr>\n",
       "    <tr>\n",
       "      <th>...</th>\n",
       "      <td>...</td>\n",
       "      <td>...</td>\n",
       "      <td>...</td>\n",
       "      <td>...</td>\n",
       "      <td>...</td>\n",
       "      <td>...</td>\n",
       "      <td>...</td>\n",
       "    </tr>\n",
       "    <tr>\n",
       "      <th>95</th>\n",
       "      <td>&lt;p class='corona19_no'&gt;24785&lt;/p&gt;</td>\n",
       "      <td>79953</td>\n",
       "      <td>2021-02-04</td>\n",
       "      <td>타시도</td>\n",
       "      <td>-</td>\n",
       "      <td>감염경로 조사중</td>\n",
       "      <td>&lt;b class='status2'&gt;&lt;/b&gt;</td>\n",
       "    </tr>\n",
       "    <tr>\n",
       "      <th>96</th>\n",
       "      <td>&lt;p class='corona19_no'&gt;24784&lt;/p&gt;</td>\n",
       "      <td>79791</td>\n",
       "      <td>2021-02-04</td>\n",
       "      <td>관악구</td>\n",
       "      <td>-</td>\n",
       "      <td>감염경로 조사중</td>\n",
       "      <td>&lt;b class='status2'&gt;&lt;/b&gt;</td>\n",
       "    </tr>\n",
       "    <tr>\n",
       "      <th>97</th>\n",
       "      <td>&lt;p class='corona19_no'&gt;24783&lt;/p&gt;</td>\n",
       "      <td>79793</td>\n",
       "      <td>2021-02-04</td>\n",
       "      <td>관악구</td>\n",
       "      <td>-</td>\n",
       "      <td>감염경로 조사중</td>\n",
       "      <td>&lt;b class='status2'&gt;&lt;/b&gt;</td>\n",
       "    </tr>\n",
       "    <tr>\n",
       "      <th>98</th>\n",
       "      <td>&lt;p class='corona19_no'&gt;24782&lt;/p&gt;</td>\n",
       "      <td>79872</td>\n",
       "      <td>2021-02-04</td>\n",
       "      <td>강북구</td>\n",
       "      <td>-</td>\n",
       "      <td>중구 소재 콜센터4 관련</td>\n",
       "      <td>&lt;b class='status2'&gt;&lt;/b&gt;</td>\n",
       "    </tr>\n",
       "    <tr>\n",
       "      <th>99</th>\n",
       "      <td>&lt;p class='corona19_no'&gt;24781&lt;/p&gt;</td>\n",
       "      <td>78128</td>\n",
       "      <td>2021-02-04</td>\n",
       "      <td>강북구</td>\n",
       "      <td>-</td>\n",
       "      <td>기타 확진자 접촉</td>\n",
       "      <td>&lt;b class='status2'&gt;&lt;/b&gt;</td>\n",
       "    </tr>\n",
       "  </tbody>\n",
       "</table>\n",
       "<p>100 rows × 7 columns</p>\n",
       "</div>"
      ],
      "text/plain": [
       "                                   0      1           2     3  4  \\\n",
       "0   <p class='corona19_no'>24880</p>  80045  2021-02-03   타시도  -   \n",
       "1   <p class='corona19_no'>24879</p>  79937  2021-02-04   동작구  -   \n",
       "2   <p class='corona19_no'>24878</p>  80125  2021-02-04  동대문구  -   \n",
       "3   <p class='corona19_no'>24877</p>  80120  2021-02-04   광진구  -   \n",
       "4   <p class='corona19_no'>24876</p>  80129  2021-02-04   광진구  -   \n",
       "..                               ...    ...         ...   ... ..   \n",
       "95  <p class='corona19_no'>24785</p>  79953  2021-02-04   타시도  -   \n",
       "96  <p class='corona19_no'>24784</p>  79791  2021-02-04   관악구  -   \n",
       "97  <p class='corona19_no'>24783</p>  79793  2021-02-04   관악구  -   \n",
       "98  <p class='corona19_no'>24782</p>  79872  2021-02-04   강북구  -   \n",
       "99  <p class='corona19_no'>24781</p>  78128  2021-02-04   강북구  -   \n",
       "\n",
       "                5                        6  \n",
       "0        감염경로 조사중         <b class=''></b>  \n",
       "1       기타 확진자 접촉         <b class=''></b>  \n",
       "2       기타 확진자 접촉         <b class=''></b>  \n",
       "3       기타 확진자 접촉         <b class=''></b>  \n",
       "4        감염경로 조사중         <b class=''></b>  \n",
       "..            ...                      ...  \n",
       "95       감염경로 조사중  <b class='status2'></b>  \n",
       "96       감염경로 조사중  <b class='status2'></b>  \n",
       "97       감염경로 조사중  <b class='status2'></b>  \n",
       "98  중구 소재 콜센터4 관련  <b class='status2'></b>  \n",
       "99      기타 확진자 접촉  <b class='status2'></b>  \n",
       "\n",
       "[100 rows x 7 columns]"
      ]
     },
     "execution_count": 38,
     "metadata": {},
     "output_type": "execute_result"
    }
   ],
   "source": [
    "pd.DataFrame(data2)"
   ]
  },
  {
   "cell_type": "code",
   "execution_count": 45,
   "metadata": {},
   "outputs": [],
   "source": [
    "def get_seoul_covid19_100(page_no):\n",
    "    \"\"\"\n",
    "    page_no : 입력값으로 페이지 번호를 입력하면 해당 번호의 데이터를 가져옴\n",
    "    start_no : 입력받은 page_no로\n",
    "    \"\"\"\n",
    "    start_no = (page_no - 1) * 100\n",
    "    url = f\"https://news.seoul.go.kr/api/27/getCorona19Status/get_status_ajax.php?draw={page_no}\"\n",
    "    url = f\"{url}&order%5B0%5D%5Bdir%5D=desc&start={start_no}&length=100\"\n",
    "    response = requests.get(url)\n",
    "    data_json = response.json()\n",
    "    return data_json"
   ]
  },
  {
   "cell_type": "code",
   "execution_count": 46,
   "metadata": {},
   "outputs": [],
   "source": [
    "def get_multi_page_list(start_page, end_page):\n",
    "    # 데이터가 제대로 로드 되는지 앞부분 3페이지 정도만 확인하고 전체페이지를 가져오록 합니다.\n",
    "    \n",
    "    page_list = []\n",
    "    for page_no in trange(start_page, end_page + 1):\n",
    "        one_page = get_seoul_covid19_100(page_no)\n",
    "        if len(one_page[\"data\"]) > 0:\n",
    "            one_page = pd.DataFrame(one_page[\"data\"])\n",
    "            page_list.append(one_page)\n",
    "            # 서버에 한번에 너무 많은요청을 보내면 서버에 부담이 됩니다.\n",
    "            # 서버에 부담을 주지 않기 위애 0.5초씩 쉬었다 가져옵니다.\n",
    "            time.sleep(0.5)\n",
    "        else:\n",
    "            # 수집된 값이 없다면 False를 반환합니다.\n",
    "            # False 반환 시 수집한 리스트를 반환하도록 합니다.\n",
    "            return page_list\n",
    "    return page_list"
   ]
  },
  {
   "cell_type": "code",
   "execution_count": 51,
   "metadata": {},
   "outputs": [
    {
     "name": "stderr",
     "output_type": "stream",
     "text": [
      "100%|████████████████████████████████████████████████████████████████████████████████| 100/100 [01:41<00:00,  1.02s/it]\n"
     ]
    },
    {
     "data": {
      "text/plain": [
       "[                                   0      1           2     3  4  \\\n",
       " 0   <p class='corona19_no'>24880</p>  80045  2021-02-03   타시도  -   \n",
       " 1   <p class='corona19_no'>24879</p>  79937  2021-02-04   동작구  -   \n",
       " 2   <p class='corona19_no'>24878</p>  80125  2021-02-04  동대문구  -   \n",
       " 3   <p class='corona19_no'>24877</p>  80120  2021-02-04   광진구  -   \n",
       " 4   <p class='corona19_no'>24876</p>  80129  2021-02-04   광진구  -   \n",
       " ..                               ...    ...         ...   ... ..   \n",
       " 95  <p class='corona19_no'>24785</p>  79953  2021-02-04   타시도  -   \n",
       " 96  <p class='corona19_no'>24784</p>  79791  2021-02-04   관악구  -   \n",
       " 97  <p class='corona19_no'>24783</p>  79793  2021-02-04   관악구  -   \n",
       " 98  <p class='corona19_no'>24782</p>  79872  2021-02-04   강북구  -   \n",
       " 99  <p class='corona19_no'>24781</p>  78128  2021-02-04   강북구  -   \n",
       " \n",
       "                 5                        6  \n",
       " 0        감염경로 조사중         <b class=''></b>  \n",
       " 1       기타 확진자 접촉         <b class=''></b>  \n",
       " 2       기타 확진자 접촉         <b class=''></b>  \n",
       " 3       기타 확진자 접촉         <b class=''></b>  \n",
       " 4        감염경로 조사중         <b class=''></b>  \n",
       " ..            ...                      ...  \n",
       " 95       감염경로 조사중  <b class='status2'></b>  \n",
       " 96       감염경로 조사중  <b class='status2'></b>  \n",
       " 97       감염경로 조사중  <b class='status2'></b>  \n",
       " 98  중구 소재 콜센터4 관련  <b class='status2'></b>  \n",
       " 99      기타 확진자 접촉  <b class='status2'></b>  \n",
       " \n",
       " [100 rows x 7 columns]]"
      ]
     },
     "execution_count": 51,
     "metadata": {},
     "output_type": "execute_result"
    }
   ],
   "source": [
    "# 시작페이지와 끝페이지를 꼭 확인해 주세요.\n",
    "start_page = 1\n",
    "# end_page = 88\n",
    "page_list1 = get_multi_page_list(start_page, end_page1 - 1)\n",
    "# 데이터가 너무 많기 때문에 슬라이싱으로 1개만 미리보기\n",
    "page_list1[:1]"
   ]
  },
  {
   "cell_type": "code",
   "execution_count": 48,
   "metadata": {},
   "outputs": [
    {
     "name": "stderr",
     "output_type": "stream",
     "text": [
      " 99%|███████████████████████████████████████████████████████████████████████████████▍| 149/150 [02:22<00:00,  1.05it/s]\n"
     ]
    },
    {
     "data": {
      "text/plain": [
       "[                                   0      1           2     3  4  \\\n",
       " 0   <p class='corona19_no'>24880</p>  80045  2021-02-03   타시도  -   \n",
       " 1   <p class='corona19_no'>24879</p>  79937  2021-02-04   동작구  -   \n",
       " 2   <p class='corona19_no'>24878</p>  80125  2021-02-04  동대문구  -   \n",
       " 3   <p class='corona19_no'>24877</p>  80120  2021-02-04   광진구  -   \n",
       " 4   <p class='corona19_no'>24876</p>  80129  2021-02-04   광진구  -   \n",
       " ..                               ...    ...         ...   ... ..   \n",
       " 95  <p class='corona19_no'>24785</p>  79953  2021-02-04   타시도  -   \n",
       " 96  <p class='corona19_no'>24784</p>  79791  2021-02-04   관악구  -   \n",
       " 97  <p class='corona19_no'>24783</p>  79793  2021-02-04   관악구  -   \n",
       " 98  <p class='corona19_no'>24782</p>  79872  2021-02-04   강북구  -   \n",
       " 99  <p class='corona19_no'>24781</p>  78128  2021-02-04   강북구  -   \n",
       " \n",
       "                 5                        6  \n",
       " 0        감염경로 조사중         <b class=''></b>  \n",
       " 1       기타 확진자 접촉         <b class=''></b>  \n",
       " 2       기타 확진자 접촉         <b class=''></b>  \n",
       " 3       기타 확진자 접촉         <b class=''></b>  \n",
       " 4        감염경로 조사중         <b class=''></b>  \n",
       " ..            ...                      ...  \n",
       " 95       감염경로 조사중  <b class='status2'></b>  \n",
       " 96       감염경로 조사중  <b class='status2'></b>  \n",
       " 97       감염경로 조사중  <b class='status2'></b>  \n",
       " 98  중구 소재 콜센터4 관련  <b class='status2'></b>  \n",
       " 99      기타 확진자 접촉  <b class='status2'></b>  \n",
       " \n",
       " [100 rows x 7 columns]]"
      ]
     },
     "execution_count": 48,
     "metadata": {},
     "output_type": "execute_result"
    }
   ],
   "source": [
    "# 시작페이지와 끝페이지를 꼭 확인해 주세요.\n",
    "start_page = 1\n",
    "# end_page = 88\n",
    "page_list2 = get_multi_page_list(start_page, end_page2)\n",
    "# 데이터가 너무 많기 때문에 슬라이싱으로 1개만 미리보기\n",
    "page_list2[:1]"
   ]
  },
  {
   "cell_type": "code",
   "execution_count": 52,
   "metadata": {},
   "outputs": [
    {
     "name": "stdout",
     "output_type": "stream",
     "text": [
      "(10000, 7) (14880, 7)\n"
     ]
    }
   ],
   "source": [
    "# concat을 통해 하나의 데이터프레임으로 합쳐줍니다.\n",
    "df_all1 = pd.concat(page_list1)\n",
    "df_all2 = pd.concat(page_list2)\n",
    "print(df_all1.shape, df_all2.shape)"
   ]
  },
  {
   "cell_type": "code",
   "execution_count": 55,
   "metadata": {},
   "outputs": [
    {
     "data": {
      "text/html": [
       "<div>\n",
       "<style scoped>\n",
       "    .dataframe tbody tr th:only-of-type {\n",
       "        vertical-align: middle;\n",
       "    }\n",
       "\n",
       "    .dataframe tbody tr th {\n",
       "        vertical-align: top;\n",
       "    }\n",
       "\n",
       "    .dataframe thead th {\n",
       "        text-align: right;\n",
       "    }\n",
       "</style>\n",
       "<table border=\"1\" class=\"dataframe\">\n",
       "  <thead>\n",
       "    <tr style=\"text-align: right;\">\n",
       "      <th></th>\n",
       "      <th>연번</th>\n",
       "      <th>환자</th>\n",
       "      <th>확진일</th>\n",
       "      <th>거주지</th>\n",
       "      <th>여행력</th>\n",
       "      <th>접촉력</th>\n",
       "      <th>퇴원현황</th>\n",
       "    </tr>\n",
       "  </thead>\n",
       "  <tbody>\n",
       "  </tbody>\n",
       "</table>\n",
       "</div>"
      ],
      "text/plain": [
       "Empty DataFrame\n",
       "Columns: [연번, 환자, 확진일, 거주지, 여행력, 접촉력, 퇴원현황]\n",
       "Index: []"
      ]
     },
     "execution_count": 55,
     "metadata": {},
     "output_type": "execute_result"
    }
   ],
   "source": [
    "df"
   ]
  },
  {
   "cell_type": "code",
   "execution_count": 56,
   "metadata": {},
   "outputs": [],
   "source": [
    "# read_html 로 읽어온 3번째 테이블의 컬럼명을 수집한 데이터의 컬럼으로 사용합니다.\n",
    "cols = df.columns.tolist()"
   ]
  },
  {
   "cell_type": "code",
   "execution_count": 57,
   "metadata": {},
   "outputs": [],
   "source": [
    "df_all1.columns = cols\n",
    "df_all2.columns = cols"
   ]
  },
  {
   "cell_type": "code",
   "execution_count": 61,
   "metadata": {},
   "outputs": [],
   "source": [
    "df_all = pd.concat([df_all2, df_all1])"
   ]
  },
  {
   "cell_type": "markdown",
   "metadata": {},
   "source": [
    "# 데이터 전처리"
   ]
  },
  {
   "cell_type": "code",
   "execution_count": 62,
   "metadata": {},
   "outputs": [],
   "source": [
    "import re\n",
    "def extract_number(num_string):\n",
    "    if type(num_string) == str:\n",
    "        num_string = num_string.replace(\"corona19\", \"\")\n",
    "        num = re.sub(\"[^0-9]\", \"\", num_string)\n",
    "        num = int(num)\n",
    "        return num\n",
    "    else:\n",
    "        return num_string"
   ]
  },
  {
   "cell_type": "code",
   "execution_count": 63,
   "metadata": {},
   "outputs": [
    {
     "data": {
      "text/plain": [
       "7625"
      ]
     },
     "execution_count": 63,
     "metadata": {},
     "output_type": "execute_result"
    }
   ],
   "source": [
    "num_string = \"<p class='corona19_no'>7625</p>\"\n",
    "extract_number(num_string)"
   ]
  },
  {
   "cell_type": "code",
   "execution_count": 64,
   "metadata": {},
   "outputs": [],
   "source": [
    "df_all[\"연번\"] = df_all[\"연번\"].map(extract_number)"
   ]
  },
  {
   "cell_type": "code",
   "execution_count": 65,
   "metadata": {},
   "outputs": [
    {
     "data": {
      "text/plain": [
       "0    24880\n",
       "1    24879\n",
       "2    24878\n",
       "3    24877\n",
       "4    24876\n",
       "Name: 연번, dtype: int64"
      ]
     },
     "execution_count": 65,
     "metadata": {},
     "output_type": "execute_result"
    }
   ],
   "source": [
    "df_all[\"연번\"].head()"
   ]
  },
  {
   "cell_type": "code",
   "execution_count": 66,
   "metadata": {},
   "outputs": [],
   "source": [
    "def extract_hangeul(origin_text):\n",
    "    subtract_text = re.sub(\"[^가-힣]\", \"\", origin_text)\n",
    "    return subtract_text"
   ]
  },
  {
   "cell_type": "code",
   "execution_count": 67,
   "metadata": {},
   "outputs": [
    {
     "data": {
      "text/plain": [
       "'퇴원'"
      ]
     },
     "execution_count": 67,
     "metadata": {},
     "output_type": "execute_result"
    }
   ],
   "source": [
    "extract_hangeul(\"<b class='status1'>퇴원</b>\")"
   ]
  },
  {
   "cell_type": "code",
   "execution_count": 68,
   "metadata": {},
   "outputs": [
    {
     "data": {
      "text/plain": [
       "'사망'"
      ]
     },
     "execution_count": 68,
     "metadata": {},
     "output_type": "execute_result"
    }
   ],
   "source": [
    "extract_hangeul(\"<b class='status2'>사망</b>\")"
   ]
  },
  {
   "cell_type": "code",
   "execution_count": 69,
   "metadata": {},
   "outputs": [
    {
     "data": {
      "text/plain": [
       "''"
      ]
     },
     "execution_count": 69,
     "metadata": {},
     "output_type": "execute_result"
    }
   ],
   "source": [
    "extract_hangeul(\"<b class=''></b>\")"
   ]
  },
  {
   "cell_type": "code",
   "execution_count": 70,
   "metadata": {},
   "outputs": [],
   "source": [
    "# 정규표현식으로 변경하는 방법도 있고 str.contains를 사용하는 방법도 있습니다.\n",
    "# df_all[\"퇴원현황\"] = df_all[\"퇴원현황\"].map(extract_hangeul)\n",
    "# df_all[\"퇴원현황\"].value_counts()"
   ]
  },
  {
   "cell_type": "code",
   "execution_count": 71,
   "metadata": {},
   "outputs": [
    {
     "data": {
      "text/plain": [
       "<b class='status1'>퇴원</b>    17791\n",
       "<b class='status1'></b>       4781\n",
       "<b class=''></b>              1743\n",
       "<b class='status2'>사망</b>      309\n",
       "<b class='status2'></b>        256\n",
       "Name: 퇴원현황, dtype: int64"
      ]
     },
     "execution_count": 71,
     "metadata": {},
     "output_type": "execute_result"
    }
   ],
   "source": [
    "df_all[\"퇴원현황\"].value_counts()"
   ]
  },
  {
   "cell_type": "code",
   "execution_count": 72,
   "metadata": {},
   "outputs": [
    {
     "data": {
      "text/plain": [
       "퇴원    17791\n",
       "사망      309\n",
       "Name: 퇴원현황, dtype: int64"
      ]
     },
     "execution_count": 72,
     "metadata": {},
     "output_type": "execute_result"
    }
   ],
   "source": [
    "import numpy as np\n",
    "df_all.loc[df_all[\"퇴원현황\"].str.contains(\"퇴원\"), \"퇴원현황\"] = \"퇴원\"\n",
    "df_all.loc[df_all[\"퇴원현황\"].str.contains(\"사망\"), \"퇴원현황\"] = \"사망\"\n",
    "df_all.loc[~df_all[\"퇴원현황\"].str.contains(\"퇴원|사망\"), \"퇴원현황\"] = np.nan\n",
    "df_all[\"퇴원현황\"].value_counts()"
   ]
  },
  {
   "cell_type": "code",
   "execution_count": 73,
   "metadata": {},
   "outputs": [
    {
     "data": {
      "text/plain": [
       "'2021-02-03'"
      ]
     },
     "execution_count": 73,
     "metadata": {},
     "output_type": "execute_result"
    }
   ],
   "source": [
    "last_date = df_all.iloc[0][\"확진일\"]\n",
    "last_date"
   ]
  },
  {
   "cell_type": "code",
   "execution_count": 74,
   "metadata": {},
   "outputs": [
    {
     "data": {
      "text/plain": [
       "'2021-02-03'"
      ]
     },
     "execution_count": 74,
     "metadata": {},
     "output_type": "execute_result"
    }
   ],
   "source": [
    "# 마지막 확진일을 파일명에 써주기 위해 . 을 _ 로 변경합니다.\n",
    "# 확장자와 구분이 쉽게 되도록 _ 로 변경합니다. \n",
    "\n",
    "date = last_date.replace(\".\", \"_\")\n",
    "date"
   ]
  },
  {
   "cell_type": "code",
   "execution_count": 75,
   "metadata": {},
   "outputs": [
    {
     "data": {
      "text/plain": [
       "'seoul-covid19-2021-02-03.csv'"
      ]
     },
     "execution_count": 75,
     "metadata": {},
     "output_type": "execute_result"
    }
   ],
   "source": [
    "# 파일명을 만들어 줍니다.\n",
    "# file_name\n",
    "\n",
    "file_name = f\"seoul-covid19-{date}.csv\"\n",
    "file_name"
   ]
  },
  {
   "cell_type": "code",
   "execution_count": 76,
   "metadata": {},
   "outputs": [],
   "source": [
    "# csv 파일로 저장합니다.\n",
    "df_all.to_csv(file_name, index=False)"
   ]
  },
  {
   "cell_type": "code",
   "execution_count": 77,
   "metadata": {},
   "outputs": [
    {
     "data": {
      "text/html": [
       "<div>\n",
       "<style scoped>\n",
       "    .dataframe tbody tr th:only-of-type {\n",
       "        vertical-align: middle;\n",
       "    }\n",
       "\n",
       "    .dataframe tbody tr th {\n",
       "        vertical-align: top;\n",
       "    }\n",
       "\n",
       "    .dataframe thead th {\n",
       "        text-align: right;\n",
       "    }\n",
       "</style>\n",
       "<table border=\"1\" class=\"dataframe\">\n",
       "  <thead>\n",
       "    <tr style=\"text-align: right;\">\n",
       "      <th></th>\n",
       "      <th>연번</th>\n",
       "      <th>환자</th>\n",
       "      <th>확진일</th>\n",
       "      <th>거주지</th>\n",
       "      <th>여행력</th>\n",
       "      <th>접촉력</th>\n",
       "      <th>퇴원현황</th>\n",
       "    </tr>\n",
       "  </thead>\n",
       "  <tbody>\n",
       "    <tr>\n",
       "      <th>0</th>\n",
       "      <td>24880</td>\n",
       "      <td>80045</td>\n",
       "      <td>2021-02-03</td>\n",
       "      <td>타시도</td>\n",
       "      <td>-</td>\n",
       "      <td>감염경로 조사중</td>\n",
       "      <td>NaN</td>\n",
       "    </tr>\n",
       "    <tr>\n",
       "      <th>1</th>\n",
       "      <td>24879</td>\n",
       "      <td>79937</td>\n",
       "      <td>2021-02-04</td>\n",
       "      <td>동작구</td>\n",
       "      <td>-</td>\n",
       "      <td>기타 확진자 접촉</td>\n",
       "      <td>NaN</td>\n",
       "    </tr>\n",
       "    <tr>\n",
       "      <th>2</th>\n",
       "      <td>24878</td>\n",
       "      <td>80125</td>\n",
       "      <td>2021-02-04</td>\n",
       "      <td>동대문구</td>\n",
       "      <td>-</td>\n",
       "      <td>기타 확진자 접촉</td>\n",
       "      <td>NaN</td>\n",
       "    </tr>\n",
       "    <tr>\n",
       "      <th>3</th>\n",
       "      <td>24877</td>\n",
       "      <td>80120</td>\n",
       "      <td>2021-02-04</td>\n",
       "      <td>광진구</td>\n",
       "      <td>-</td>\n",
       "      <td>기타 확진자 접촉</td>\n",
       "      <td>NaN</td>\n",
       "    </tr>\n",
       "    <tr>\n",
       "      <th>4</th>\n",
       "      <td>24876</td>\n",
       "      <td>80129</td>\n",
       "      <td>2021-02-04</td>\n",
       "      <td>광진구</td>\n",
       "      <td>-</td>\n",
       "      <td>감염경로 조사중</td>\n",
       "      <td>NaN</td>\n",
       "    </tr>\n",
       "    <tr>\n",
       "      <th>...</th>\n",
       "      <td>...</td>\n",
       "      <td>...</td>\n",
       "      <td>...</td>\n",
       "      <td>...</td>\n",
       "      <td>...</td>\n",
       "      <td>...</td>\n",
       "      <td>...</td>\n",
       "    </tr>\n",
       "    <tr>\n",
       "      <th>24875</th>\n",
       "      <td>14885</td>\n",
       "      <td>50106</td>\n",
       "      <td>2020-12-20</td>\n",
       "      <td>용산구</td>\n",
       "      <td>-</td>\n",
       "      <td>기타 확진자 접촉</td>\n",
       "      <td>퇴원</td>\n",
       "    </tr>\n",
       "    <tr>\n",
       "      <th>24876</th>\n",
       "      <td>14884</td>\n",
       "      <td>50350</td>\n",
       "      <td>2020-12-20</td>\n",
       "      <td>종로구</td>\n",
       "      <td>-</td>\n",
       "      <td>기타 확진자 접촉</td>\n",
       "      <td>NaN</td>\n",
       "    </tr>\n",
       "    <tr>\n",
       "      <th>24877</th>\n",
       "      <td>14883</td>\n",
       "      <td>50258</td>\n",
       "      <td>2020-12-20</td>\n",
       "      <td>서대문구</td>\n",
       "      <td>-</td>\n",
       "      <td>기타 확진자 접촉</td>\n",
       "      <td>퇴원</td>\n",
       "    </tr>\n",
       "    <tr>\n",
       "      <th>24878</th>\n",
       "      <td>14882</td>\n",
       "      <td>50349</td>\n",
       "      <td>2020-12-20</td>\n",
       "      <td>종로구</td>\n",
       "      <td>-</td>\n",
       "      <td>기타 확진자 접촉</td>\n",
       "      <td>퇴원</td>\n",
       "    </tr>\n",
       "    <tr>\n",
       "      <th>24879</th>\n",
       "      <td>14881</td>\n",
       "      <td>50369</td>\n",
       "      <td>2020-12-20</td>\n",
       "      <td>서대문구</td>\n",
       "      <td>독일</td>\n",
       "      <td>해외유입</td>\n",
       "      <td>퇴원</td>\n",
       "    </tr>\n",
       "  </tbody>\n",
       "</table>\n",
       "<p>24880 rows × 7 columns</p>\n",
       "</div>"
      ],
      "text/plain": [
       "          연번     환자         확진일   거주지 여행력        접촉력 퇴원현황\n",
       "0      24880  80045  2021-02-03   타시도   -   감염경로 조사중  NaN\n",
       "1      24879  79937  2021-02-04   동작구   -  기타 확진자 접촉  NaN\n",
       "2      24878  80125  2021-02-04  동대문구   -  기타 확진자 접촉  NaN\n",
       "3      24877  80120  2021-02-04   광진구   -  기타 확진자 접촉  NaN\n",
       "4      24876  80129  2021-02-04   광진구   -   감염경로 조사중  NaN\n",
       "...      ...    ...         ...   ...  ..        ...  ...\n",
       "24875  14885  50106  2020-12-20   용산구   -  기타 확진자 접촉   퇴원\n",
       "24876  14884  50350  2020-12-20   종로구   -  기타 확진자 접촉  NaN\n",
       "24877  14883  50258  2020-12-20  서대문구   -  기타 확진자 접촉   퇴원\n",
       "24878  14882  50349  2020-12-20   종로구   -  기타 확진자 접촉   퇴원\n",
       "24879  14881  50369  2020-12-20  서대문구  독일       해외유입   퇴원\n",
       "\n",
       "[24880 rows x 7 columns]"
      ]
     },
     "execution_count": 77,
     "metadata": {},
     "output_type": "execute_result"
    }
   ],
   "source": [
    "# 제대로 저장되었는지 확인합니다.\n",
    "pd.read_csv(file_name)"
   ]
  },
  {
   "cell_type": "code",
   "execution_count": null,
   "metadata": {},
   "outputs": [],
   "source": []
  }
 ],
 "metadata": {
  "kernelspec": {
   "display_name": "Python 3",
   "language": "python",
   "name": "python3"
  },
  "language_info": {
   "codemirror_mode": {
    "name": "ipython",
    "version": 3
   },
   "file_extension": ".py",
   "mimetype": "text/x-python",
   "name": "python",
   "nbconvert_exporter": "python",
   "pygments_lexer": "ipython3",
   "version": "3.8.3"
  }
 },
 "nbformat": 4,
 "nbformat_minor": 4
}
