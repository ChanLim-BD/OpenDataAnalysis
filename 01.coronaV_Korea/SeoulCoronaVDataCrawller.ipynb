{
 "cells": [
  {
   "cell_type": "markdown",
   "metadata": {},
   "source": [
    "# 서울시에서 공개한 코로나19 발생동향 분석\n",
    "\n",
    "* http://www.seoul.go.kr/coronaV/coronaStatus.do"
   ]
  },
  {
   "cell_type": "code",
   "execution_count": 1,
   "metadata": {},
   "outputs": [],
   "source": [
    "import requests\n",
    "import pandas as pd\n",
    "import requests\n",
    "# time.sleep 으로 시차를 두기 위해\n",
    "import time\n",
    "# tqdm : 진행상태를 표시하기 위해\n",
    "from tqdm import trange"
   ]
  },
  {
   "cell_type": "code",
   "execution_count": 2,
   "metadata": {},
   "outputs": [
    {
     "data": {
      "text/html": [
       "<div>\n",
       "<style scoped>\n",
       "    .dataframe tbody tr th:only-of-type {\n",
       "        vertical-align: middle;\n",
       "    }\n",
       "\n",
       "    .dataframe tbody tr th {\n",
       "        vertical-align: top;\n",
       "    }\n",
       "\n",
       "    .dataframe thead th {\n",
       "        text-align: right;\n",
       "    }\n",
       "</style>\n",
       "<table border=\"1\" class=\"dataframe\">\n",
       "  <thead>\n",
       "    <tr style=\"text-align: right;\">\n",
       "      <th></th>\n",
       "      <th>연번</th>\n",
       "      <th>환자</th>\n",
       "      <th>확진일</th>\n",
       "      <th>거주지</th>\n",
       "      <th>여행력</th>\n",
       "      <th>접촉력</th>\n",
       "      <th>퇴원현황</th>\n",
       "    </tr>\n",
       "  </thead>\n",
       "  <tbody>\n",
       "  </tbody>\n",
       "</table>\n",
       "</div>"
      ],
      "text/plain": [
       "Empty DataFrame\n",
       "Columns: [연번, 환자, 확진일, 거주지, 여행력, 접촉력, 퇴원현황]\n",
       "Index: []"
      ]
     },
     "execution_count": 2,
     "metadata": {},
     "output_type": "execute_result"
    }
   ],
   "source": [
    "# 크롤링으로 가져올 url 주소를 입력합니다.\n",
    "\n",
    "url = \"http://www.seoul.go.kr/coronaV/coronaStatus.do\"\n",
    "url\n",
    "table = pd.read_html(url)\n",
    "df = table[3]\n",
    "df.head()"
   ]
  },
  {
   "cell_type": "code",
   "execution_count": 3,
   "metadata": {},
   "outputs": [
    {
     "data": {
      "text/plain": [
       "'\\n11월 중순 이후 확진자가 증가하면서 데이터 공개 방식이 달라져서 pandas 의 read_html 로는 불러올 수가 없습니다.\\n기존의 read_html 로는 컬럼명을 불러오고 데이터는 requests 라는 라이브러리를 통해 읽어옵니다.\\n'"
      ]
     },
     "execution_count": 3,
     "metadata": {},
     "output_type": "execute_result"
    }
   ],
   "source": [
    "\"\"\"\n",
    "11월 중순 이후 확진자가 증가하면서 데이터 공개 방식이 달라져서 pandas 의 read_html 로는 불러올 수가 없습니다.\n",
    "기존의 read_html 로는 컬럼명을 불러오고 데이터는 requests 라는 라이브러리를 통해 읽어옵니다.\n",
    "\"\"\""
   ]
  },
  {
   "cell_type": "markdown",
   "metadata": {},
   "source": [
    "# 11월 중순 이후 데이터 공개방식 변경"
   ]
  },
  {
   "cell_type": "code",
   "execution_count": 4,
   "metadata": {},
   "outputs": [
    {
     "data": {
      "text/plain": [
       "'https://news.seoul.go.kr/api/27/getCorona19Status/get_status_ajax_pre.php?draw=1&start=100&length=100'"
      ]
     },
     "execution_count": 4,
     "metadata": {},
     "output_type": "execute_result"
    }
   ],
   "source": [
    "# f-string\n",
    "\n",
    "url1 = \"https://news.seoul.go.kr/api/27/getCorona19Status/get_status_ajax_pre.php?draw=1\"\n",
    "# url2 = f\"{url2}&columns%5B0%5D%5Bdata%5D=0&columns%5B0%5D%5Bname%5D=&columns%5B0%5D%5Bsearchable%5D=true&columns%5B0%5D%5Borderable%5D=true&columns%5B0%5D%5Bsearch%5D%5Bvalue%5D=&columns%5B0%5D%5Bsearch%5D%5Bregex%5D=false&columns%5B1%5D%5Bdata%5D=1&columns%5B1%5D%5Bname%5D=&columns%5B1%5D%5Bsearchable%5D=true&columns%5B1%5D%5Borderable%5D=true&columns%5B1%5D%5Bsearch%5D%5Bvalue%5D=&columns%5B1%5D%5Bsearch%5D%5Bregex%5D=false&columns%5B2%5D%5Bdata%5D=2&columns%5B2%5D%5Bname%5D=&columns%5B2%5D%5Bsearchable%5D=true&columns%5B2%5D%5Borderable%5D=true&columns%5B2%5D%5Bsearch%5D%5Bvalue%5D=&columns%5B2%5D%5Bsearch%5D%5Bregex%5D=false&columns%5B3%5D%5Bdata%5D=3&columns%5B3%5D%5Bname%5D=&columns%5B3%5D%5Bsearchable%5D=true&columns%5B3%5D%5Borderable%5D=true&columns%5B3%5D%5Bsearch%5D%5Bvalue%5D=&columns%5B3%5D%5Bsearch%5D%5Bregex%5D=false&columns%5B4%5D%5Bdata%5D=4&columns%5B4%5D%5Bname%5D=&columns%5B4%5D%5Bsearchable%5D=true&columns%5B4%5D%5Borderable%5D=true&columns%5B4%5D%5Bsearch%5D%5Bvalue%5D=&columns%5B4%5D%5Bsearch%5D%5Bregex%5D=false&columns%5B5%5D%5Bdata%5D=5&columns%5B5%5D%5Bname%5D=&columns%5B5%5D%5Bsearchable%5D=true&columns%5B5%5D%5Borderable%5D=true&columns%5B5%5D%5Bsearch%5D%5Bvalue%5D=&columns%5B5%5D%5Bsearch%5D%5Bregex%5D=false&columns%5B6%5D%5Bdata%5D=6&columns%5B6%5D%5Bname%5D=&columns%5B6%5D%5Bsearchable%5D=true&columns%5B6%5D%5Borderable%5D=true&columns%5B6%5D%5Bsearch%5D%5Bvalue%5D=&columns%5B6%5D%5Bsearch%5D%5Bregex%5D=false&order%5B0%5D%5Bcolumn%5D=0&order%5B0%5D%5Bdir%5D=desc\n",
    "url1 = f\"{url1}&start=100&length=100\"\n",
    "# url2 = \"&search%5Bvalue%5D=&search%5Bregex%5D=true&_=1612502263521\"\n",
    "url1"
   ]
  },
  {
   "cell_type": "code",
   "execution_count": 5,
   "metadata": {},
   "outputs": [
    {
     "data": {
      "text/plain": [
       "'https://news.seoul.go.kr/api/27/getCorona19Status/get_status_ajax.php?draw=1&start=0&length=100'"
      ]
     },
     "execution_count": 5,
     "metadata": {},
     "output_type": "execute_result"
    }
   ],
   "source": [
    "# f-string\n",
    "\n",
    "url2 = \"https://news.seoul.go.kr/api/27/getCorona19Status/get_status_ajax.php?draw=1\"\n",
    "# url = f\"{url}&columns%5B0%5D%5Bdata%5D=0&columns%5B0%5D%5Bname%5D=&columns%5B0%5D%5Bsearchable%5D=true&columns%5B0%5D%5Borderable%5D=true&columns%5B0%5D%5Bsearch%5D%5Bvalue%5D=&columns%5B0%5D%5Bsearch%5D%5Bregex%5D=false&columns%5B1%5D%5Bdata%5D=1&columns%5B1%5D%5Bname%5D=&columns%5B1%5D%5Bsearchable%5D=true&columns%5B1%5D%5Borderable%5D=true&columns%5B1%5D%5Bsearch%5D%5Bvalue%5D=&columns%5B1%5D%5Bsearch%5D%5Bregex%5D=false&columns%5B2%5D%5Bdata%5D=2&columns%5B2%5D%5Bname%5D=&columns%5B2%5D%5Bsearchable%5D=true&columns%5B2%5D%5Borderable%5D=true&columns%5B2%5D%5Bsearch%5D%5Bvalue%5D=&columns%5B2%5D%5Bsearch%5D%5Bregex%5D=false&columns%5B3%5D%5Bdata%5D=3&columns%5B3%5D%5Bname%5D=&columns%5B3%5D%5Bsearchable%5D=true&columns%5B3%5D%5Borderable%5D=true&columns%5B3%5D%5Bsearch%5D%5Bvalue%5D=&columns%5B3%5D%5Bsearch%5D%5Bregex%5D=false&columns%5B4%5D%5Bdata%5D=4&columns%5B4%5D%5Bname%5D=&columns%5B4%5D%5Bsearchable%5D=true&columns%5B4%5D%5Borderable%5D=true&columns%5B4%5D%5Bsearch%5D%5Bvalue%5D=&columns%5B4%5D%5Bsearch%5D%5Bregex%5D=false&columns%5B5%5D%5Bdata%5D=5&columns%5B5%5D%5Bname%5D=&columns%5B5%5D%5Bsearchable%5D=true&columns%5B5%5D%5Borderable%5D=true&columns%5B5%5D%5Bsearch%5D%5Bvalue%5D=&columns%5B5%5D%5Bsearch%5D%5Bregex%5D=false&columns%5B6%5D%5Bdata%5D=6&columns%5B6%5D%5Bname%5D=&columns%5B6%5D%5Bsearchable%5D=true&columns%5B6%5D%5Borderable%5D=true&columns%5B6%5D%5Bsearch%5D%5Bvalue%5D=&columns%5B6%5D%5Bsearch%5D%5Bregex%5D=false&order%5B0%5D%5Bcolumn%5D=0&order%5B0%5D%5Bdir%5D=desc\n",
    "url2 = f\"{url2}&start=0&length=100\"\n",
    "# url\"&search%5Bvalue%5D=&search%5Bregex%5D=true&_=1612502263512\"\n",
    "url2"
   ]
  },
  {
   "cell_type": "code",
   "execution_count": 6,
   "metadata": {},
   "outputs": [
    {
     "data": {
      "text/html": [
       "<div>\n",
       "<style scoped>\n",
       "    .dataframe tbody tr th:only-of-type {\n",
       "        vertical-align: middle;\n",
       "    }\n",
       "\n",
       "    .dataframe tbody tr th {\n",
       "        vertical-align: top;\n",
       "    }\n",
       "\n",
       "    .dataframe thead th {\n",
       "        text-align: right;\n",
       "    }\n",
       "</style>\n",
       "<table border=\"1\" class=\"dataframe\">\n",
       "  <thead>\n",
       "    <tr style=\"text-align: right;\">\n",
       "      <th></th>\n",
       "      <th>0</th>\n",
       "      <th>1</th>\n",
       "      <th>2</th>\n",
       "      <th>3</th>\n",
       "      <th>4</th>\n",
       "      <th>5</th>\n",
       "      <th>6</th>\n",
       "    </tr>\n",
       "  </thead>\n",
       "  <tbody>\n",
       "    <tr>\n",
       "      <th>0</th>\n",
       "      <td>&lt;p class='corona19_no'&gt;20000&lt;/p&gt;</td>\n",
       "      <td>64263</td>\n",
       "      <td>2021-01-02</td>\n",
       "      <td>강서구</td>\n",
       "      <td>-</td>\n",
       "      <td>기타 확진자 접촉</td>\n",
       "      <td>&lt;b class='status1'&gt;퇴원&lt;/b&gt;</td>\n",
       "    </tr>\n",
       "    <tr>\n",
       "      <th>1</th>\n",
       "      <td>&lt;p class='corona19_no'&gt;19999&lt;/p&gt;</td>\n",
       "      <td>64264</td>\n",
       "      <td>2021-01-02</td>\n",
       "      <td>노원구</td>\n",
       "      <td>-</td>\n",
       "      <td>감염경로 조사중</td>\n",
       "      <td>&lt;b class='status1'&gt;퇴원&lt;/b&gt;</td>\n",
       "    </tr>\n",
       "    <tr>\n",
       "      <th>2</th>\n",
       "      <td>&lt;p class='corona19_no'&gt;19998&lt;/p&gt;</td>\n",
       "      <td>63457</td>\n",
       "      <td>2021-01-02</td>\n",
       "      <td>마포구</td>\n",
       "      <td>-</td>\n",
       "      <td>감염경로 조사중</td>\n",
       "      <td>&lt;b class='status1'&gt;퇴원&lt;/b&gt;</td>\n",
       "    </tr>\n",
       "    <tr>\n",
       "      <th>3</th>\n",
       "      <td>&lt;p class='corona19_no'&gt;19997&lt;/p&gt;</td>\n",
       "      <td>63569</td>\n",
       "      <td>2021-01-03</td>\n",
       "      <td>광진구</td>\n",
       "      <td>-</td>\n",
       "      <td>기타 확진자 접촉</td>\n",
       "      <td>&lt;b class='status1'&gt;퇴원&lt;/b&gt;</td>\n",
       "    </tr>\n",
       "    <tr>\n",
       "      <th>4</th>\n",
       "      <td>&lt;p class='corona19_no'&gt;19996&lt;/p&gt;</td>\n",
       "      <td>64238</td>\n",
       "      <td>2021-01-03</td>\n",
       "      <td>광진구</td>\n",
       "      <td>-</td>\n",
       "      <td>기타 확진자 접촉</td>\n",
       "      <td>&lt;b class='status1'&gt;퇴원&lt;/b&gt;</td>\n",
       "    </tr>\n",
       "    <tr>\n",
       "      <th>...</th>\n",
       "      <td>...</td>\n",
       "      <td>...</td>\n",
       "      <td>...</td>\n",
       "      <td>...</td>\n",
       "      <td>...</td>\n",
       "      <td>...</td>\n",
       "      <td>...</td>\n",
       "    </tr>\n",
       "    <tr>\n",
       "      <th>95</th>\n",
       "      <td>&lt;p class='corona19_no'&gt;19905&lt;/p&gt;</td>\n",
       "      <td>63731</td>\n",
       "      <td>2021-01-03</td>\n",
       "      <td>노원구</td>\n",
       "      <td>-</td>\n",
       "      <td>감염경로 조사중</td>\n",
       "      <td>&lt;b class='status1'&gt;퇴원&lt;/b&gt;</td>\n",
       "    </tr>\n",
       "    <tr>\n",
       "      <th>96</th>\n",
       "      <td>&lt;p class='corona19_no'&gt;19904&lt;/p&gt;</td>\n",
       "      <td>63657</td>\n",
       "      <td>2021-01-03</td>\n",
       "      <td>중랑구</td>\n",
       "      <td>-</td>\n",
       "      <td>감염경로 조사중</td>\n",
       "      <td>&lt;b class='status1'&gt;퇴원&lt;/b&gt;</td>\n",
       "    </tr>\n",
       "    <tr>\n",
       "      <th>97</th>\n",
       "      <td>&lt;p class='corona19_no'&gt;19903&lt;/p&gt;</td>\n",
       "      <td>63722</td>\n",
       "      <td>2021-01-03</td>\n",
       "      <td>강서구</td>\n",
       "      <td>-</td>\n",
       "      <td>감염경로 조사중</td>\n",
       "      <td>&lt;b class='status1'&gt;퇴원&lt;/b&gt;</td>\n",
       "    </tr>\n",
       "    <tr>\n",
       "      <th>98</th>\n",
       "      <td>&lt;p class='corona19_no'&gt;19902&lt;/p&gt;</td>\n",
       "      <td>63734</td>\n",
       "      <td>2021-01-03</td>\n",
       "      <td>강서구</td>\n",
       "      <td>-</td>\n",
       "      <td>기타 확진자 접촉</td>\n",
       "      <td>&lt;b class='status1'&gt;퇴원&lt;/b&gt;</td>\n",
       "    </tr>\n",
       "    <tr>\n",
       "      <th>99</th>\n",
       "      <td>&lt;p class='corona19_no'&gt;19901&lt;/p&gt;</td>\n",
       "      <td>63727</td>\n",
       "      <td>2021-01-03</td>\n",
       "      <td>노원구</td>\n",
       "      <td>-</td>\n",
       "      <td>감염경로 조사중</td>\n",
       "      <td>&lt;b class='status1'&gt;퇴원&lt;/b&gt;</td>\n",
       "    </tr>\n",
       "  </tbody>\n",
       "</table>\n",
       "<p>100 rows × 7 columns</p>\n",
       "</div>"
      ],
      "text/plain": [
       "                                   0      1           2    3  4          5  \\\n",
       "0   <p class='corona19_no'>20000</p>  64263  2021-01-02  강서구  -  기타 확진자 접촉   \n",
       "1   <p class='corona19_no'>19999</p>  64264  2021-01-02  노원구  -   감염경로 조사중   \n",
       "2   <p class='corona19_no'>19998</p>  63457  2021-01-02  마포구  -   감염경로 조사중   \n",
       "3   <p class='corona19_no'>19997</p>  63569  2021-01-03  광진구  -  기타 확진자 접촉   \n",
       "4   <p class='corona19_no'>19996</p>  64238  2021-01-03  광진구  -  기타 확진자 접촉   \n",
       "..                               ...    ...         ...  ... ..        ...   \n",
       "95  <p class='corona19_no'>19905</p>  63731  2021-01-03  노원구  -   감염경로 조사중   \n",
       "96  <p class='corona19_no'>19904</p>  63657  2021-01-03  중랑구  -   감염경로 조사중   \n",
       "97  <p class='corona19_no'>19903</p>  63722  2021-01-03  강서구  -   감염경로 조사중   \n",
       "98  <p class='corona19_no'>19902</p>  63734  2021-01-03  강서구  -  기타 확진자 접촉   \n",
       "99  <p class='corona19_no'>19901</p>  63727  2021-01-03  노원구  -   감염경로 조사중   \n",
       "\n",
       "                            6  \n",
       "0   <b class='status1'>퇴원</b>  \n",
       "1   <b class='status1'>퇴원</b>  \n",
       "2   <b class='status1'>퇴원</b>  \n",
       "3   <b class='status1'>퇴원</b>  \n",
       "4   <b class='status1'>퇴원</b>  \n",
       "..                        ...  \n",
       "95  <b class='status1'>퇴원</b>  \n",
       "96  <b class='status1'>퇴원</b>  \n",
       "97  <b class='status1'>퇴원</b>  \n",
       "98  <b class='status1'>퇴원</b>  \n",
       "99  <b class='status1'>퇴원</b>  \n",
       "\n",
       "[100 rows x 7 columns]"
      ]
     },
     "execution_count": 6,
     "metadata": {},
     "output_type": "execute_result"
    }
   ],
   "source": [
    "response1 = requests.get(url1)\n",
    "data_json1 = response1.json()\n",
    "pd.DataFrame(data_json1[\"data\"])"
   ]
  },
  {
   "cell_type": "code",
   "execution_count": 7,
   "metadata": {},
   "outputs": [
    {
     "data": {
      "text/html": [
       "<div>\n",
       "<style scoped>\n",
       "    .dataframe tbody tr th:only-of-type {\n",
       "        vertical-align: middle;\n",
       "    }\n",
       "\n",
       "    .dataframe tbody tr th {\n",
       "        vertical-align: top;\n",
       "    }\n",
       "\n",
       "    .dataframe thead th {\n",
       "        text-align: right;\n",
       "    }\n",
       "</style>\n",
       "<table border=\"1\" class=\"dataframe\">\n",
       "  <thead>\n",
       "    <tr style=\"text-align: right;\">\n",
       "      <th></th>\n",
       "      <th>0</th>\n",
       "      <th>1</th>\n",
       "      <th>2</th>\n",
       "      <th>3</th>\n",
       "      <th>4</th>\n",
       "      <th>5</th>\n",
       "      <th>6</th>\n",
       "    </tr>\n",
       "  </thead>\n",
       "  <tbody>\n",
       "    <tr>\n",
       "      <th>0</th>\n",
       "      <td>&lt;p class='corona19_no'&gt;28820&lt;/p&gt;</td>\n",
       "      <td>91588</td>\n",
       "      <td>2021-03-04</td>\n",
       "      <td>영등포구</td>\n",
       "      <td>-</td>\n",
       "      <td>감염경로 조사중</td>\n",
       "      <td>&lt;b class=''&gt;&lt;/b&gt;</td>\n",
       "    </tr>\n",
       "    <tr>\n",
       "      <th>1</th>\n",
       "      <td>&lt;p class='corona19_no'&gt;28819&lt;/p&gt;</td>\n",
       "      <td>91613</td>\n",
       "      <td>2021-03-04</td>\n",
       "      <td>영등포구</td>\n",
       "      <td>-</td>\n",
       "      <td>감염경로 조사중</td>\n",
       "      <td>&lt;b class=''&gt;&lt;/b&gt;</td>\n",
       "    </tr>\n",
       "    <tr>\n",
       "      <th>2</th>\n",
       "      <td>&lt;p class='corona19_no'&gt;28818&lt;/p&gt;</td>\n",
       "      <td>91611</td>\n",
       "      <td>2021-03-04</td>\n",
       "      <td>광진구</td>\n",
       "      <td>-</td>\n",
       "      <td>기타 확진자 접촉</td>\n",
       "      <td>&lt;b class=''&gt;&lt;/b&gt;</td>\n",
       "    </tr>\n",
       "    <tr>\n",
       "      <th>3</th>\n",
       "      <td>&lt;p class='corona19_no'&gt;28817&lt;/p&gt;</td>\n",
       "      <td>91606</td>\n",
       "      <td>2021-03-04</td>\n",
       "      <td>광진구</td>\n",
       "      <td>-</td>\n",
       "      <td>감염경로 조사중</td>\n",
       "      <td>&lt;b class=''&gt;&lt;/b&gt;</td>\n",
       "    </tr>\n",
       "    <tr>\n",
       "      <th>4</th>\n",
       "      <td>&lt;p class='corona19_no'&gt;28816&lt;/p&gt;</td>\n",
       "      <td>91608</td>\n",
       "      <td>2021-03-04</td>\n",
       "      <td>강북구</td>\n",
       "      <td>-</td>\n",
       "      <td>기타 확진자 접촉</td>\n",
       "      <td>&lt;b class=''&gt;&lt;/b&gt;</td>\n",
       "    </tr>\n",
       "    <tr>\n",
       "      <th>...</th>\n",
       "      <td>...</td>\n",
       "      <td>...</td>\n",
       "      <td>...</td>\n",
       "      <td>...</td>\n",
       "      <td>...</td>\n",
       "      <td>...</td>\n",
       "      <td>...</td>\n",
       "    </tr>\n",
       "    <tr>\n",
       "      <th>95</th>\n",
       "      <td>&lt;p class='corona19_no'&gt;28725&lt;/p&gt;</td>\n",
       "      <td>91265</td>\n",
       "      <td>2021-03-04</td>\n",
       "      <td>노원구</td>\n",
       "      <td>-</td>\n",
       "      <td>감염경로 조사중</td>\n",
       "      <td>&lt;b class=''&gt;&lt;/b&gt;</td>\n",
       "    </tr>\n",
       "    <tr>\n",
       "      <th>96</th>\n",
       "      <td>&lt;p class='corona19_no'&gt;28724&lt;/p&gt;</td>\n",
       "      <td>91337</td>\n",
       "      <td>2021-03-04</td>\n",
       "      <td>송파구</td>\n",
       "      <td>-</td>\n",
       "      <td>감염경로 조사중</td>\n",
       "      <td>&lt;b class=''&gt;&lt;/b&gt;</td>\n",
       "    </tr>\n",
       "    <tr>\n",
       "      <th>97</th>\n",
       "      <td>&lt;p class='corona19_no'&gt;28723&lt;/p&gt;</td>\n",
       "      <td>91333</td>\n",
       "      <td>2021-03-04</td>\n",
       "      <td>송파구</td>\n",
       "      <td>-</td>\n",
       "      <td>기타 확진자 접촉</td>\n",
       "      <td>&lt;b class=''&gt;&lt;/b&gt;</td>\n",
       "    </tr>\n",
       "    <tr>\n",
       "      <th>98</th>\n",
       "      <td>&lt;p class='corona19_no'&gt;28722&lt;/p&gt;</td>\n",
       "      <td>91394</td>\n",
       "      <td>2021-03-04</td>\n",
       "      <td>성북구</td>\n",
       "      <td>-</td>\n",
       "      <td>기타 확진자 접촉</td>\n",
       "      <td>&lt;b class=''&gt;&lt;/b&gt;</td>\n",
       "    </tr>\n",
       "    <tr>\n",
       "      <th>99</th>\n",
       "      <td>&lt;p class='corona19_no'&gt;28721&lt;/p&gt;</td>\n",
       "      <td>91336</td>\n",
       "      <td>2021-03-04</td>\n",
       "      <td>송파구</td>\n",
       "      <td>-</td>\n",
       "      <td>기타 확진자 접촉</td>\n",
       "      <td>&lt;b class=''&gt;&lt;/b&gt;</td>\n",
       "    </tr>\n",
       "  </tbody>\n",
       "</table>\n",
       "<p>100 rows × 7 columns</p>\n",
       "</div>"
      ],
      "text/plain": [
       "                                   0      1           2     3  4          5  \\\n",
       "0   <p class='corona19_no'>28820</p>  91588  2021-03-04  영등포구  -   감염경로 조사중   \n",
       "1   <p class='corona19_no'>28819</p>  91613  2021-03-04  영등포구  -   감염경로 조사중   \n",
       "2   <p class='corona19_no'>28818</p>  91611  2021-03-04   광진구  -  기타 확진자 접촉   \n",
       "3   <p class='corona19_no'>28817</p>  91606  2021-03-04   광진구  -   감염경로 조사중   \n",
       "4   <p class='corona19_no'>28816</p>  91608  2021-03-04   강북구  -  기타 확진자 접촉   \n",
       "..                               ...    ...         ...   ... ..        ...   \n",
       "95  <p class='corona19_no'>28725</p>  91265  2021-03-04   노원구  -   감염경로 조사중   \n",
       "96  <p class='corona19_no'>28724</p>  91337  2021-03-04   송파구  -   감염경로 조사중   \n",
       "97  <p class='corona19_no'>28723</p>  91333  2021-03-04   송파구  -  기타 확진자 접촉   \n",
       "98  <p class='corona19_no'>28722</p>  91394  2021-03-04   성북구  -  기타 확진자 접촉   \n",
       "99  <p class='corona19_no'>28721</p>  91336  2021-03-04   송파구  -  기타 확진자 접촉   \n",
       "\n",
       "                   6  \n",
       "0   <b class=''></b>  \n",
       "1   <b class=''></b>  \n",
       "2   <b class=''></b>  \n",
       "3   <b class=''></b>  \n",
       "4   <b class=''></b>  \n",
       "..               ...  \n",
       "95  <b class=''></b>  \n",
       "96  <b class=''></b>  \n",
       "97  <b class=''></b>  \n",
       "98  <b class=''></b>  \n",
       "99  <b class=''></b>  \n",
       "\n",
       "[100 rows x 7 columns]"
      ]
     },
     "execution_count": 7,
     "metadata": {},
     "output_type": "execute_result"
    }
   ],
   "source": [
    "response2 = requests.get(url2)\n",
    "data_json2 = response2.json()\n",
    "pd.DataFrame(data_json2[\"data\"])"
   ]
  },
  {
   "cell_type": "code",
   "execution_count": 8,
   "metadata": {},
   "outputs": [
    {
     "data": {
      "text/plain": [
       "20000"
      ]
     },
     "execution_count": 8,
     "metadata": {},
     "output_type": "execute_result"
    }
   ],
   "source": [
    "records_total1 = data_json1['recordsTotal']\n",
    "records_total1"
   ]
  },
  {
   "cell_type": "code",
   "execution_count": 9,
   "metadata": {},
   "outputs": [
    {
     "data": {
      "text/plain": [
       "8820"
      ]
     },
     "execution_count": 9,
     "metadata": {},
     "output_type": "execute_result"
    }
   ],
   "source": [
    "records_total2 = data_json2['recordsTotal']\n",
    "records_total2"
   ]
  },
  {
   "cell_type": "code",
   "execution_count": 10,
   "metadata": {},
   "outputs": [
    {
     "data": {
      "text/plain": [
       "201"
      ]
     },
     "execution_count": 10,
     "metadata": {},
     "output_type": "execute_result"
    }
   ],
   "source": [
    "end_page1 = round(records_total1 / 100) + 1\n",
    "end_page1"
   ]
  },
  {
   "cell_type": "code",
   "execution_count": 11,
   "metadata": {
    "scrolled": true
   },
   "outputs": [
    {
     "data": {
      "text/plain": [
       "89"
      ]
     },
     "execution_count": 11,
     "metadata": {},
     "output_type": "execute_result"
    }
   ],
   "source": [
    "end_page2 = round(records_total2 / 100) + 1\n",
    "end_page2"
   ]
  },
  {
   "cell_type": "code",
   "execution_count": 12,
   "metadata": {},
   "outputs": [],
   "source": [
    "data1 = data_json1[\"data\"]\n",
    "data2 = data_json2[\"data\"]"
   ]
  },
  {
   "cell_type": "code",
   "execution_count": 13,
   "metadata": {},
   "outputs": [
    {
     "data": {
      "text/html": [
       "<div>\n",
       "<style scoped>\n",
       "    .dataframe tbody tr th:only-of-type {\n",
       "        vertical-align: middle;\n",
       "    }\n",
       "\n",
       "    .dataframe tbody tr th {\n",
       "        vertical-align: top;\n",
       "    }\n",
       "\n",
       "    .dataframe thead th {\n",
       "        text-align: right;\n",
       "    }\n",
       "</style>\n",
       "<table border=\"1\" class=\"dataframe\">\n",
       "  <thead>\n",
       "    <tr style=\"text-align: right;\">\n",
       "      <th></th>\n",
       "      <th>0</th>\n",
       "      <th>1</th>\n",
       "      <th>2</th>\n",
       "      <th>3</th>\n",
       "      <th>4</th>\n",
       "      <th>5</th>\n",
       "      <th>6</th>\n",
       "    </tr>\n",
       "  </thead>\n",
       "  <tbody>\n",
       "    <tr>\n",
       "      <th>0</th>\n",
       "      <td>&lt;p class='corona19_no'&gt;20000&lt;/p&gt;</td>\n",
       "      <td>64263</td>\n",
       "      <td>2021-01-02</td>\n",
       "      <td>강서구</td>\n",
       "      <td>-</td>\n",
       "      <td>기타 확진자 접촉</td>\n",
       "      <td>&lt;b class='status1'&gt;퇴원&lt;/b&gt;</td>\n",
       "    </tr>\n",
       "    <tr>\n",
       "      <th>1</th>\n",
       "      <td>&lt;p class='corona19_no'&gt;19999&lt;/p&gt;</td>\n",
       "      <td>64264</td>\n",
       "      <td>2021-01-02</td>\n",
       "      <td>노원구</td>\n",
       "      <td>-</td>\n",
       "      <td>감염경로 조사중</td>\n",
       "      <td>&lt;b class='status1'&gt;퇴원&lt;/b&gt;</td>\n",
       "    </tr>\n",
       "    <tr>\n",
       "      <th>2</th>\n",
       "      <td>&lt;p class='corona19_no'&gt;19998&lt;/p&gt;</td>\n",
       "      <td>63457</td>\n",
       "      <td>2021-01-02</td>\n",
       "      <td>마포구</td>\n",
       "      <td>-</td>\n",
       "      <td>감염경로 조사중</td>\n",
       "      <td>&lt;b class='status1'&gt;퇴원&lt;/b&gt;</td>\n",
       "    </tr>\n",
       "    <tr>\n",
       "      <th>3</th>\n",
       "      <td>&lt;p class='corona19_no'&gt;19997&lt;/p&gt;</td>\n",
       "      <td>63569</td>\n",
       "      <td>2021-01-03</td>\n",
       "      <td>광진구</td>\n",
       "      <td>-</td>\n",
       "      <td>기타 확진자 접촉</td>\n",
       "      <td>&lt;b class='status1'&gt;퇴원&lt;/b&gt;</td>\n",
       "    </tr>\n",
       "    <tr>\n",
       "      <th>4</th>\n",
       "      <td>&lt;p class='corona19_no'&gt;19996&lt;/p&gt;</td>\n",
       "      <td>64238</td>\n",
       "      <td>2021-01-03</td>\n",
       "      <td>광진구</td>\n",
       "      <td>-</td>\n",
       "      <td>기타 확진자 접촉</td>\n",
       "      <td>&lt;b class='status1'&gt;퇴원&lt;/b&gt;</td>\n",
       "    </tr>\n",
       "    <tr>\n",
       "      <th>...</th>\n",
       "      <td>...</td>\n",
       "      <td>...</td>\n",
       "      <td>...</td>\n",
       "      <td>...</td>\n",
       "      <td>...</td>\n",
       "      <td>...</td>\n",
       "      <td>...</td>\n",
       "    </tr>\n",
       "    <tr>\n",
       "      <th>95</th>\n",
       "      <td>&lt;p class='corona19_no'&gt;19905&lt;/p&gt;</td>\n",
       "      <td>63731</td>\n",
       "      <td>2021-01-03</td>\n",
       "      <td>노원구</td>\n",
       "      <td>-</td>\n",
       "      <td>감염경로 조사중</td>\n",
       "      <td>&lt;b class='status1'&gt;퇴원&lt;/b&gt;</td>\n",
       "    </tr>\n",
       "    <tr>\n",
       "      <th>96</th>\n",
       "      <td>&lt;p class='corona19_no'&gt;19904&lt;/p&gt;</td>\n",
       "      <td>63657</td>\n",
       "      <td>2021-01-03</td>\n",
       "      <td>중랑구</td>\n",
       "      <td>-</td>\n",
       "      <td>감염경로 조사중</td>\n",
       "      <td>&lt;b class='status1'&gt;퇴원&lt;/b&gt;</td>\n",
       "    </tr>\n",
       "    <tr>\n",
       "      <th>97</th>\n",
       "      <td>&lt;p class='corona19_no'&gt;19903&lt;/p&gt;</td>\n",
       "      <td>63722</td>\n",
       "      <td>2021-01-03</td>\n",
       "      <td>강서구</td>\n",
       "      <td>-</td>\n",
       "      <td>감염경로 조사중</td>\n",
       "      <td>&lt;b class='status1'&gt;퇴원&lt;/b&gt;</td>\n",
       "    </tr>\n",
       "    <tr>\n",
       "      <th>98</th>\n",
       "      <td>&lt;p class='corona19_no'&gt;19902&lt;/p&gt;</td>\n",
       "      <td>63734</td>\n",
       "      <td>2021-01-03</td>\n",
       "      <td>강서구</td>\n",
       "      <td>-</td>\n",
       "      <td>기타 확진자 접촉</td>\n",
       "      <td>&lt;b class='status1'&gt;퇴원&lt;/b&gt;</td>\n",
       "    </tr>\n",
       "    <tr>\n",
       "      <th>99</th>\n",
       "      <td>&lt;p class='corona19_no'&gt;19901&lt;/p&gt;</td>\n",
       "      <td>63727</td>\n",
       "      <td>2021-01-03</td>\n",
       "      <td>노원구</td>\n",
       "      <td>-</td>\n",
       "      <td>감염경로 조사중</td>\n",
       "      <td>&lt;b class='status1'&gt;퇴원&lt;/b&gt;</td>\n",
       "    </tr>\n",
       "  </tbody>\n",
       "</table>\n",
       "<p>100 rows × 7 columns</p>\n",
       "</div>"
      ],
      "text/plain": [
       "                                   0      1           2    3  4          5  \\\n",
       "0   <p class='corona19_no'>20000</p>  64263  2021-01-02  강서구  -  기타 확진자 접촉   \n",
       "1   <p class='corona19_no'>19999</p>  64264  2021-01-02  노원구  -   감염경로 조사중   \n",
       "2   <p class='corona19_no'>19998</p>  63457  2021-01-02  마포구  -   감염경로 조사중   \n",
       "3   <p class='corona19_no'>19997</p>  63569  2021-01-03  광진구  -  기타 확진자 접촉   \n",
       "4   <p class='corona19_no'>19996</p>  64238  2021-01-03  광진구  -  기타 확진자 접촉   \n",
       "..                               ...    ...         ...  ... ..        ...   \n",
       "95  <p class='corona19_no'>19905</p>  63731  2021-01-03  노원구  -   감염경로 조사중   \n",
       "96  <p class='corona19_no'>19904</p>  63657  2021-01-03  중랑구  -   감염경로 조사중   \n",
       "97  <p class='corona19_no'>19903</p>  63722  2021-01-03  강서구  -   감염경로 조사중   \n",
       "98  <p class='corona19_no'>19902</p>  63734  2021-01-03  강서구  -  기타 확진자 접촉   \n",
       "99  <p class='corona19_no'>19901</p>  63727  2021-01-03  노원구  -   감염경로 조사중   \n",
       "\n",
       "                            6  \n",
       "0   <b class='status1'>퇴원</b>  \n",
       "1   <b class='status1'>퇴원</b>  \n",
       "2   <b class='status1'>퇴원</b>  \n",
       "3   <b class='status1'>퇴원</b>  \n",
       "4   <b class='status1'>퇴원</b>  \n",
       "..                        ...  \n",
       "95  <b class='status1'>퇴원</b>  \n",
       "96  <b class='status1'>퇴원</b>  \n",
       "97  <b class='status1'>퇴원</b>  \n",
       "98  <b class='status1'>퇴원</b>  \n",
       "99  <b class='status1'>퇴원</b>  \n",
       "\n",
       "[100 rows x 7 columns]"
      ]
     },
     "execution_count": 13,
     "metadata": {},
     "output_type": "execute_result"
    }
   ],
   "source": [
    "pd.DataFrame(data1)"
   ]
  },
  {
   "cell_type": "code",
   "execution_count": 14,
   "metadata": {},
   "outputs": [
    {
     "data": {
      "text/html": [
       "<div>\n",
       "<style scoped>\n",
       "    .dataframe tbody tr th:only-of-type {\n",
       "        vertical-align: middle;\n",
       "    }\n",
       "\n",
       "    .dataframe tbody tr th {\n",
       "        vertical-align: top;\n",
       "    }\n",
       "\n",
       "    .dataframe thead th {\n",
       "        text-align: right;\n",
       "    }\n",
       "</style>\n",
       "<table border=\"1\" class=\"dataframe\">\n",
       "  <thead>\n",
       "    <tr style=\"text-align: right;\">\n",
       "      <th></th>\n",
       "      <th>0</th>\n",
       "      <th>1</th>\n",
       "      <th>2</th>\n",
       "      <th>3</th>\n",
       "      <th>4</th>\n",
       "      <th>5</th>\n",
       "      <th>6</th>\n",
       "    </tr>\n",
       "  </thead>\n",
       "  <tbody>\n",
       "    <tr>\n",
       "      <th>0</th>\n",
       "      <td>&lt;p class='corona19_no'&gt;28820&lt;/p&gt;</td>\n",
       "      <td>91588</td>\n",
       "      <td>2021-03-04</td>\n",
       "      <td>영등포구</td>\n",
       "      <td>-</td>\n",
       "      <td>감염경로 조사중</td>\n",
       "      <td>&lt;b class=''&gt;&lt;/b&gt;</td>\n",
       "    </tr>\n",
       "    <tr>\n",
       "      <th>1</th>\n",
       "      <td>&lt;p class='corona19_no'&gt;28819&lt;/p&gt;</td>\n",
       "      <td>91613</td>\n",
       "      <td>2021-03-04</td>\n",
       "      <td>영등포구</td>\n",
       "      <td>-</td>\n",
       "      <td>감염경로 조사중</td>\n",
       "      <td>&lt;b class=''&gt;&lt;/b&gt;</td>\n",
       "    </tr>\n",
       "    <tr>\n",
       "      <th>2</th>\n",
       "      <td>&lt;p class='corona19_no'&gt;28818&lt;/p&gt;</td>\n",
       "      <td>91611</td>\n",
       "      <td>2021-03-04</td>\n",
       "      <td>광진구</td>\n",
       "      <td>-</td>\n",
       "      <td>기타 확진자 접촉</td>\n",
       "      <td>&lt;b class=''&gt;&lt;/b&gt;</td>\n",
       "    </tr>\n",
       "    <tr>\n",
       "      <th>3</th>\n",
       "      <td>&lt;p class='corona19_no'&gt;28817&lt;/p&gt;</td>\n",
       "      <td>91606</td>\n",
       "      <td>2021-03-04</td>\n",
       "      <td>광진구</td>\n",
       "      <td>-</td>\n",
       "      <td>감염경로 조사중</td>\n",
       "      <td>&lt;b class=''&gt;&lt;/b&gt;</td>\n",
       "    </tr>\n",
       "    <tr>\n",
       "      <th>4</th>\n",
       "      <td>&lt;p class='corona19_no'&gt;28816&lt;/p&gt;</td>\n",
       "      <td>91608</td>\n",
       "      <td>2021-03-04</td>\n",
       "      <td>강북구</td>\n",
       "      <td>-</td>\n",
       "      <td>기타 확진자 접촉</td>\n",
       "      <td>&lt;b class=''&gt;&lt;/b&gt;</td>\n",
       "    </tr>\n",
       "    <tr>\n",
       "      <th>...</th>\n",
       "      <td>...</td>\n",
       "      <td>...</td>\n",
       "      <td>...</td>\n",
       "      <td>...</td>\n",
       "      <td>...</td>\n",
       "      <td>...</td>\n",
       "      <td>...</td>\n",
       "    </tr>\n",
       "    <tr>\n",
       "      <th>95</th>\n",
       "      <td>&lt;p class='corona19_no'&gt;28725&lt;/p&gt;</td>\n",
       "      <td>91265</td>\n",
       "      <td>2021-03-04</td>\n",
       "      <td>노원구</td>\n",
       "      <td>-</td>\n",
       "      <td>감염경로 조사중</td>\n",
       "      <td>&lt;b class=''&gt;&lt;/b&gt;</td>\n",
       "    </tr>\n",
       "    <tr>\n",
       "      <th>96</th>\n",
       "      <td>&lt;p class='corona19_no'&gt;28724&lt;/p&gt;</td>\n",
       "      <td>91337</td>\n",
       "      <td>2021-03-04</td>\n",
       "      <td>송파구</td>\n",
       "      <td>-</td>\n",
       "      <td>감염경로 조사중</td>\n",
       "      <td>&lt;b class=''&gt;&lt;/b&gt;</td>\n",
       "    </tr>\n",
       "    <tr>\n",
       "      <th>97</th>\n",
       "      <td>&lt;p class='corona19_no'&gt;28723&lt;/p&gt;</td>\n",
       "      <td>91333</td>\n",
       "      <td>2021-03-04</td>\n",
       "      <td>송파구</td>\n",
       "      <td>-</td>\n",
       "      <td>기타 확진자 접촉</td>\n",
       "      <td>&lt;b class=''&gt;&lt;/b&gt;</td>\n",
       "    </tr>\n",
       "    <tr>\n",
       "      <th>98</th>\n",
       "      <td>&lt;p class='corona19_no'&gt;28722&lt;/p&gt;</td>\n",
       "      <td>91394</td>\n",
       "      <td>2021-03-04</td>\n",
       "      <td>성북구</td>\n",
       "      <td>-</td>\n",
       "      <td>기타 확진자 접촉</td>\n",
       "      <td>&lt;b class=''&gt;&lt;/b&gt;</td>\n",
       "    </tr>\n",
       "    <tr>\n",
       "      <th>99</th>\n",
       "      <td>&lt;p class='corona19_no'&gt;28721&lt;/p&gt;</td>\n",
       "      <td>91336</td>\n",
       "      <td>2021-03-04</td>\n",
       "      <td>송파구</td>\n",
       "      <td>-</td>\n",
       "      <td>기타 확진자 접촉</td>\n",
       "      <td>&lt;b class=''&gt;&lt;/b&gt;</td>\n",
       "    </tr>\n",
       "  </tbody>\n",
       "</table>\n",
       "<p>100 rows × 7 columns</p>\n",
       "</div>"
      ],
      "text/plain": [
       "                                   0      1           2     3  4          5  \\\n",
       "0   <p class='corona19_no'>28820</p>  91588  2021-03-04  영등포구  -   감염경로 조사중   \n",
       "1   <p class='corona19_no'>28819</p>  91613  2021-03-04  영등포구  -   감염경로 조사중   \n",
       "2   <p class='corona19_no'>28818</p>  91611  2021-03-04   광진구  -  기타 확진자 접촉   \n",
       "3   <p class='corona19_no'>28817</p>  91606  2021-03-04   광진구  -   감염경로 조사중   \n",
       "4   <p class='corona19_no'>28816</p>  91608  2021-03-04   강북구  -  기타 확진자 접촉   \n",
       "..                               ...    ...         ...   ... ..        ...   \n",
       "95  <p class='corona19_no'>28725</p>  91265  2021-03-04   노원구  -   감염경로 조사중   \n",
       "96  <p class='corona19_no'>28724</p>  91337  2021-03-04   송파구  -   감염경로 조사중   \n",
       "97  <p class='corona19_no'>28723</p>  91333  2021-03-04   송파구  -  기타 확진자 접촉   \n",
       "98  <p class='corona19_no'>28722</p>  91394  2021-03-04   성북구  -  기타 확진자 접촉   \n",
       "99  <p class='corona19_no'>28721</p>  91336  2021-03-04   송파구  -  기타 확진자 접촉   \n",
       "\n",
       "                   6  \n",
       "0   <b class=''></b>  \n",
       "1   <b class=''></b>  \n",
       "2   <b class=''></b>  \n",
       "3   <b class=''></b>  \n",
       "4   <b class=''></b>  \n",
       "..               ...  \n",
       "95  <b class=''></b>  \n",
       "96  <b class=''></b>  \n",
       "97  <b class=''></b>  \n",
       "98  <b class=''></b>  \n",
       "99  <b class=''></b>  \n",
       "\n",
       "[100 rows x 7 columns]"
      ]
     },
     "execution_count": 14,
     "metadata": {},
     "output_type": "execute_result"
    }
   ],
   "source": [
    "pd.DataFrame(data2)"
   ]
  },
  {
   "cell_type": "code",
   "execution_count": 15,
   "metadata": {},
   "outputs": [],
   "source": [
    "def get1_seoul_covid19_100(page_no):\n",
    "    \"\"\"\n",
    "    page_no : 입력값으로 페이지 번호를 입력하면 해당 번호의 데이터를 가져옴\n",
    "    start_no : 입력받은 page_no로\n",
    "    \"\"\"\n",
    "    start_no = (page_no - 1) * 100\n",
    "    url = f\"https://news.seoul.go.kr/api/27/getCorona19Status/get_status_ajax_pre.php?draw={page_no}\"\n",
    "    url = f\"{url}&order%5B0%5D%5Bdir%5D=desc&start={start_no}&length=100\"\n",
    "    response = requests.get(url)\n",
    "    data_json = response.json()\n",
    "    return data_json"
   ]
  },
  {
   "cell_type": "code",
   "execution_count": 16,
   "metadata": {},
   "outputs": [],
   "source": [
    "def get2_seoul_covid19_100(page_no):\n",
    "    \"\"\"\n",
    "    page_no : 입력값으로 페이지 번호를 입력하면 해당 번호의 데이터를 가져옴\n",
    "    start_no : 입력받은 page_no로\n",
    "    \"\"\"\n",
    "    start_no = (page_no - 1) * 100\n",
    "    url = f\"https://news.seoul.go.kr/api/27/getCorona19Status/get_status_ajax.php?draw={page_no}\"\n",
    "    url = f\"{url}&order%5B0%5D%5Bdir%5D=desc&start={start_no}&length=100\"\n",
    "    response = requests.get(url)\n",
    "    data_json = response.json()\n",
    "    return data_json"
   ]
  },
  {
   "cell_type": "code",
   "execution_count": 17,
   "metadata": {},
   "outputs": [],
   "source": [
    "def get1_multi_page_list(start_page, end_page):\n",
    "    # 데이터가 제대로 로드 되는지 앞부분 3페이지 정도만 확인하고 전체페이지를 가져오록 합니다.\n",
    "    \n",
    "    page_list = []\n",
    "    for page_no in trange(start_page, end_page + 1):\n",
    "        one_page = get1_seoul_covid19_100(page_no)\n",
    "        if len(one_page[\"data\"]) > 0:\n",
    "            one_page = pd.DataFrame(one_page[\"data\"])\n",
    "            page_list.append(one_page)\n",
    "            # 서버에 한번에 너무 많은요청을 보내면 서버에 부담이 됩니다.\n",
    "            # 서버에 부담을 주지 않기 위애 0.5초씩 쉬었다 가져옵니다.\n",
    "            time.sleep(0.5)\n",
    "        else:\n",
    "            # 수집된 값이 없다면 False를 반환합니다.\n",
    "            # False 반환 시 수집한 리스트를 반환하도록 합니다.\n",
    "            return page_list\n",
    "    return page_list"
   ]
  },
  {
   "cell_type": "code",
   "execution_count": 18,
   "metadata": {},
   "outputs": [],
   "source": [
    "def get2_multi_page_list(start_page, end_page):\n",
    "    # 데이터가 제대로 로드 되는지 앞부분 3페이지 정도만 확인하고 전체페이지를 가져오록 합니다.\n",
    "    \n",
    "    page_list = []\n",
    "    for page_no in trange(start_page, end_page + 1):\n",
    "        one_page = get2_seoul_covid19_100(page_no)\n",
    "        if len(one_page[\"data\"]) > 0:\n",
    "            one_page = pd.DataFrame(one_page[\"data\"])\n",
    "            page_list.append(one_page)\n",
    "            # 서버에 한번에 너무 많은요청을 보내면 서버에 부담이 됩니다.\n",
    "            # 서버에 부담을 주지 않기 위애 0.5초씩 쉬었다 가져옵니다.\n",
    "            time.sleep(0.5)\n",
    "        else:\n",
    "            # 수집된 값이 없다면 False를 반환합니다.\n",
    "            # False 반환 시 수집한 리스트를 반환하도록 합니다.\n",
    "            return page_list\n",
    "    return page_list"
   ]
  },
  {
   "cell_type": "code",
   "execution_count": 19,
   "metadata": {},
   "outputs": [
    {
     "name": "stderr",
     "output_type": "stream",
     "text": [
      "100%|████████████████████████████████████████████████████████████████████████████████| 200/200 [03:01<00:00,  1.10it/s]\n"
     ]
    },
    {
     "data": {
      "text/plain": [
       "[                                   0      1           2    3  4          5  \\\n",
       " 0   <p class='corona19_no'>20000</p>  64263  2021-01-02  강서구  -  기타 확진자 접촉   \n",
       " 1   <p class='corona19_no'>19999</p>  64264  2021-01-02  노원구  -   감염경로 조사중   \n",
       " 2   <p class='corona19_no'>19998</p>  63457  2021-01-02  마포구  -   감염경로 조사중   \n",
       " 3   <p class='corona19_no'>19997</p>  63569  2021-01-03  광진구  -  기타 확진자 접촉   \n",
       " 4   <p class='corona19_no'>19996</p>  64238  2021-01-03  광진구  -  기타 확진자 접촉   \n",
       " ..                               ...    ...         ...  ... ..        ...   \n",
       " 95  <p class='corona19_no'>19905</p>  63731  2021-01-03  노원구  -   감염경로 조사중   \n",
       " 96  <p class='corona19_no'>19904</p>  63657  2021-01-03  중랑구  -   감염경로 조사중   \n",
       " 97  <p class='corona19_no'>19903</p>  63722  2021-01-03  강서구  -   감염경로 조사중   \n",
       " 98  <p class='corona19_no'>19902</p>  63734  2021-01-03  강서구  -  기타 확진자 접촉   \n",
       " 99  <p class='corona19_no'>19901</p>  63727  2021-01-03  노원구  -   감염경로 조사중   \n",
       " \n",
       "                             6  \n",
       " 0   <b class='status1'>퇴원</b>  \n",
       " 1   <b class='status1'>퇴원</b>  \n",
       " 2   <b class='status1'>퇴원</b>  \n",
       " 3   <b class='status1'>퇴원</b>  \n",
       " 4   <b class='status1'>퇴원</b>  \n",
       " ..                        ...  \n",
       " 95  <b class='status1'>퇴원</b>  \n",
       " 96  <b class='status1'>퇴원</b>  \n",
       " 97  <b class='status1'>퇴원</b>  \n",
       " 98  <b class='status1'>퇴원</b>  \n",
       " 99  <b class='status1'>퇴원</b>  \n",
       " \n",
       " [100 rows x 7 columns]]"
      ]
     },
     "execution_count": 19,
     "metadata": {},
     "output_type": "execute_result"
    }
   ],
   "source": [
    "# 시작페이지와 끝페이지를 꼭 확인해 주세요.\n",
    "start_page = 1\n",
    "# end_page = 88\n",
    "page_list1 = get1_multi_page_list(start_page, end_page1 - 1)\n",
    "# 데이터가 너무 많기 때문에 슬라이싱으로 1개만 미리보기\n",
    "page_list1[:1]"
   ]
  },
  {
   "cell_type": "code",
   "execution_count": 20,
   "metadata": {},
   "outputs": [
    {
     "name": "stderr",
     "output_type": "stream",
     "text": [
      "100%|██████████████████████████████████████████████████████████████████████████████████| 89/89 [01:16<00:00,  1.16it/s]\n"
     ]
    },
    {
     "data": {
      "text/plain": [
       "[                                   0      1           2     3  4          5  \\\n",
       " 0   <p class='corona19_no'>28820</p>  91588  2021-03-04  영등포구  -   감염경로 조사중   \n",
       " 1   <p class='corona19_no'>28819</p>  91613  2021-03-04  영등포구  -   감염경로 조사중   \n",
       " 2   <p class='corona19_no'>28818</p>  91611  2021-03-04   광진구  -  기타 확진자 접촉   \n",
       " 3   <p class='corona19_no'>28817</p>  91606  2021-03-04   광진구  -   감염경로 조사중   \n",
       " 4   <p class='corona19_no'>28816</p>  91608  2021-03-04   강북구  -  기타 확진자 접촉   \n",
       " ..                               ...    ...         ...   ... ..        ...   \n",
       " 95  <p class='corona19_no'>28725</p>  91265  2021-03-04   노원구  -   감염경로 조사중   \n",
       " 96  <p class='corona19_no'>28724</p>  91337  2021-03-04   송파구  -   감염경로 조사중   \n",
       " 97  <p class='corona19_no'>28723</p>  91333  2021-03-04   송파구  -  기타 확진자 접촉   \n",
       " 98  <p class='corona19_no'>28722</p>  91394  2021-03-04   성북구  -  기타 확진자 접촉   \n",
       " 99  <p class='corona19_no'>28721</p>  91336  2021-03-04   송파구  -  기타 확진자 접촉   \n",
       " \n",
       "                    6  \n",
       " 0   <b class=''></b>  \n",
       " 1   <b class=''></b>  \n",
       " 2   <b class=''></b>  \n",
       " 3   <b class=''></b>  \n",
       " 4   <b class=''></b>  \n",
       " ..               ...  \n",
       " 95  <b class=''></b>  \n",
       " 96  <b class=''></b>  \n",
       " 97  <b class=''></b>  \n",
       " 98  <b class=''></b>  \n",
       " 99  <b class=''></b>  \n",
       " \n",
       " [100 rows x 7 columns]]"
      ]
     },
     "execution_count": 20,
     "metadata": {},
     "output_type": "execute_result"
    }
   ],
   "source": [
    "# 시작페이지와 끝페이지를 꼭 확인해 주세요.\n",
    "start_page = 1\n",
    "# end_page = 88\n",
    "page_list2 = get2_multi_page_list(start_page, end_page2)\n",
    "# 데이터가 너무 많기 때문에 슬라이싱으로 1개만 미리보기\n",
    "page_list2[:1]"
   ]
  },
  {
   "cell_type": "code",
   "execution_count": 21,
   "metadata": {},
   "outputs": [
    {
     "name": "stdout",
     "output_type": "stream",
     "text": [
      "(8820, 7) (20000, 7)\n"
     ]
    }
   ],
   "source": [
    "# concat을 통해 하나의 데이터프레임으로 합쳐줍니다.\n",
    "df_all1 = pd.concat(page_list1)\n",
    "df_all2 = pd.concat(page_list2)\n",
    "print(df_all2.shape, df_all1.shape)"
   ]
  },
  {
   "cell_type": "code",
   "execution_count": 22,
   "metadata": {},
   "outputs": [
    {
     "data": {
      "text/html": [
       "<div>\n",
       "<style scoped>\n",
       "    .dataframe tbody tr th:only-of-type {\n",
       "        vertical-align: middle;\n",
       "    }\n",
       "\n",
       "    .dataframe tbody tr th {\n",
       "        vertical-align: top;\n",
       "    }\n",
       "\n",
       "    .dataframe thead th {\n",
       "        text-align: right;\n",
       "    }\n",
       "</style>\n",
       "<table border=\"1\" class=\"dataframe\">\n",
       "  <thead>\n",
       "    <tr style=\"text-align: right;\">\n",
       "      <th></th>\n",
       "      <th>연번</th>\n",
       "      <th>환자</th>\n",
       "      <th>확진일</th>\n",
       "      <th>거주지</th>\n",
       "      <th>여행력</th>\n",
       "      <th>접촉력</th>\n",
       "      <th>퇴원현황</th>\n",
       "    </tr>\n",
       "  </thead>\n",
       "  <tbody>\n",
       "  </tbody>\n",
       "</table>\n",
       "</div>"
      ],
      "text/plain": [
       "Empty DataFrame\n",
       "Columns: [연번, 환자, 확진일, 거주지, 여행력, 접촉력, 퇴원현황]\n",
       "Index: []"
      ]
     },
     "execution_count": 22,
     "metadata": {},
     "output_type": "execute_result"
    }
   ],
   "source": [
    "df"
   ]
  },
  {
   "cell_type": "code",
   "execution_count": 23,
   "metadata": {},
   "outputs": [],
   "source": [
    "# read_html 로 읽어온 3번째 테이블의 컬럼명을 수집한 데이터의 컬럼으로 사용합니다.\n",
    "cols = df.columns.tolist()"
   ]
  },
  {
   "cell_type": "code",
   "execution_count": 24,
   "metadata": {},
   "outputs": [],
   "source": [
    "df_all1.columns = cols\n",
    "df_all2.columns = cols"
   ]
  },
  {
   "cell_type": "markdown",
   "metadata": {},
   "source": [
    "# 데이터 합치기"
   ]
  },
  {
   "cell_type": "code",
   "execution_count": 25,
   "metadata": {},
   "outputs": [],
   "source": [
    "df_all = pd.concat([df_all2, df_all1])"
   ]
  },
  {
   "cell_type": "markdown",
   "metadata": {},
   "source": [
    "# 데이터 전처리"
   ]
  },
  {
   "cell_type": "code",
   "execution_count": 26,
   "metadata": {},
   "outputs": [],
   "source": [
    "import re\n",
    "def extract_number(num_string):\n",
    "    if type(num_string) == str:\n",
    "        num_string = num_string.replace(\"corona19\", \"\")\n",
    "        num = re.sub(\"[^0-9]\", \"\", num_string)\n",
    "        num = int(num)\n",
    "        return num\n",
    "    else:\n",
    "        return num_string"
   ]
  },
  {
   "cell_type": "code",
   "execution_count": 27,
   "metadata": {},
   "outputs": [
    {
     "data": {
      "text/plain": [
       "7625"
      ]
     },
     "execution_count": 27,
     "metadata": {},
     "output_type": "execute_result"
    }
   ],
   "source": [
    "num_string = \"<p class='corona19_no'>7625</p>\"\n",
    "extract_number(num_string)"
   ]
  },
  {
   "cell_type": "code",
   "execution_count": 28,
   "metadata": {},
   "outputs": [],
   "source": [
    "df_all[\"연번\"] = df_all[\"연번\"].map(extract_number)"
   ]
  },
  {
   "cell_type": "code",
   "execution_count": 29,
   "metadata": {},
   "outputs": [
    {
     "data": {
      "text/plain": [
       "0    28820\n",
       "1    28819\n",
       "2    28818\n",
       "3    28817\n",
       "4    28816\n",
       "Name: 연번, dtype: int64"
      ]
     },
     "execution_count": 29,
     "metadata": {},
     "output_type": "execute_result"
    }
   ],
   "source": [
    "df_all[\"연번\"].head()"
   ]
  },
  {
   "cell_type": "code",
   "execution_count": 30,
   "metadata": {},
   "outputs": [],
   "source": [
    "def extract_hangeul(origin_text):\n",
    "    subtract_text = re.sub(\"[^가-힣]\", \"\", origin_text)\n",
    "    return subtract_text"
   ]
  },
  {
   "cell_type": "code",
   "execution_count": 31,
   "metadata": {},
   "outputs": [
    {
     "data": {
      "text/plain": [
       "'퇴원'"
      ]
     },
     "execution_count": 31,
     "metadata": {},
     "output_type": "execute_result"
    }
   ],
   "source": [
    "extract_hangeul(\"<b class='status1'>퇴원</b>\")"
   ]
  },
  {
   "cell_type": "code",
   "execution_count": 32,
   "metadata": {},
   "outputs": [
    {
     "data": {
      "text/plain": [
       "'사망'"
      ]
     },
     "execution_count": 32,
     "metadata": {},
     "output_type": "execute_result"
    }
   ],
   "source": [
    "extract_hangeul(\"<b class='status2'>사망</b>\")"
   ]
  },
  {
   "cell_type": "code",
   "execution_count": 33,
   "metadata": {},
   "outputs": [
    {
     "data": {
      "text/plain": [
       "''"
      ]
     },
     "execution_count": 33,
     "metadata": {},
     "output_type": "execute_result"
    }
   ],
   "source": [
    "extract_hangeul(\"<b class=''></b>\")"
   ]
  },
  {
   "cell_type": "code",
   "execution_count": 34,
   "metadata": {},
   "outputs": [],
   "source": [
    "# 정규표현식으로 변경하는 방법도 있고 str.contains를 사용하는 방법도 있습니다.\n",
    "# df_all[\"퇴원현황\"] = df_all[\"퇴원현황\"].map(extract_hangeul)\n",
    "# df_all[\"퇴원현황\"].value_counts()"
   ]
  },
  {
   "cell_type": "code",
   "execution_count": 35,
   "metadata": {},
   "outputs": [
    {
     "data": {
      "text/plain": [
       "<b class='status1'>퇴원</b>    24844\n",
       "<b class='status1'></b>       2826\n",
       "<b class=''></b>               609\n",
       "<b class='status2'>사망</b>      389\n",
       "<b class='status2'></b>        152\n",
       "Name: 퇴원현황, dtype: int64"
      ]
     },
     "execution_count": 35,
     "metadata": {},
     "output_type": "execute_result"
    }
   ],
   "source": [
    "df_all[\"퇴원현황\"].value_counts()"
   ]
  },
  {
   "cell_type": "code",
   "execution_count": 36,
   "metadata": {},
   "outputs": [
    {
     "data": {
      "text/plain": [
       "퇴원    24844\n",
       "사망      389\n",
       "Name: 퇴원현황, dtype: int64"
      ]
     },
     "execution_count": 36,
     "metadata": {},
     "output_type": "execute_result"
    }
   ],
   "source": [
    "import numpy as np\n",
    "df_all.loc[df_all[\"퇴원현황\"].str.contains(\"퇴원\"), \"퇴원현황\"] = \"퇴원\"\n",
    "df_all.loc[df_all[\"퇴원현황\"].str.contains(\"사망\"), \"퇴원현황\"] = \"사망\"\n",
    "df_all.loc[~df_all[\"퇴원현황\"].str.contains(\"퇴원|사망\"), \"퇴원현황\"] = np.nan\n",
    "df_all[\"퇴원현황\"].value_counts()"
   ]
  },
  {
   "cell_type": "code",
   "execution_count": 37,
   "metadata": {},
   "outputs": [
    {
     "data": {
      "text/plain": [
       "'2021-03-04'"
      ]
     },
     "execution_count": 37,
     "metadata": {},
     "output_type": "execute_result"
    }
   ],
   "source": [
    "last_date = df_all.iloc[0][\"확진일\"]\n",
    "last_date"
   ]
  },
  {
   "cell_type": "code",
   "execution_count": 38,
   "metadata": {},
   "outputs": [
    {
     "data": {
      "text/plain": [
       "'2021-03-04'"
      ]
     },
     "execution_count": 38,
     "metadata": {},
     "output_type": "execute_result"
    }
   ],
   "source": [
    "# 마지막 확진일을 파일명에 써주기 위해 . 을 _ 로 변경합니다.\n",
    "# 확장자와 구분이 쉽게 되도록 _ 로 변경합니다. \n",
    "\n",
    "date = last_date.replace(\".\", \"_\")\n",
    "date"
   ]
  },
  {
   "cell_type": "code",
   "execution_count": 39,
   "metadata": {},
   "outputs": [
    {
     "data": {
      "text/plain": [
       "'realtime-seoul-covid19-2021-03-04.csv'"
      ]
     },
     "execution_count": 39,
     "metadata": {},
     "output_type": "execute_result"
    }
   ],
   "source": [
    "# 파일명을 만들어 줍니다.\n",
    "# file_name\n",
    "\n",
    "file_name = f\"realtime-seoul-covid19-{date}.csv\"\n",
    "file_name"
   ]
  },
  {
   "cell_type": "code",
   "execution_count": 40,
   "metadata": {},
   "outputs": [],
   "source": [
    "# csv 파일로 저장합니다.\n",
    "df_all.to_csv(file_name, index=False)"
   ]
  },
  {
   "cell_type": "code",
   "execution_count": 41,
   "metadata": {},
   "outputs": [
    {
     "data": {
      "text/html": [
       "<div>\n",
       "<style scoped>\n",
       "    .dataframe tbody tr th:only-of-type {\n",
       "        vertical-align: middle;\n",
       "    }\n",
       "\n",
       "    .dataframe tbody tr th {\n",
       "        vertical-align: top;\n",
       "    }\n",
       "\n",
       "    .dataframe thead th {\n",
       "        text-align: right;\n",
       "    }\n",
       "</style>\n",
       "<table border=\"1\" class=\"dataframe\">\n",
       "  <thead>\n",
       "    <tr style=\"text-align: right;\">\n",
       "      <th></th>\n",
       "      <th>연번</th>\n",
       "      <th>환자</th>\n",
       "      <th>확진일</th>\n",
       "      <th>거주지</th>\n",
       "      <th>여행력</th>\n",
       "      <th>접촉력</th>\n",
       "      <th>퇴원현황</th>\n",
       "    </tr>\n",
       "  </thead>\n",
       "  <tbody>\n",
       "    <tr>\n",
       "      <th>0</th>\n",
       "      <td>28820</td>\n",
       "      <td>91588</td>\n",
       "      <td>2021-03-04</td>\n",
       "      <td>영등포구</td>\n",
       "      <td>-</td>\n",
       "      <td>감염경로 조사중</td>\n",
       "      <td>NaN</td>\n",
       "    </tr>\n",
       "    <tr>\n",
       "      <th>1</th>\n",
       "      <td>28819</td>\n",
       "      <td>91613</td>\n",
       "      <td>2021-03-04</td>\n",
       "      <td>영등포구</td>\n",
       "      <td>-</td>\n",
       "      <td>감염경로 조사중</td>\n",
       "      <td>NaN</td>\n",
       "    </tr>\n",
       "    <tr>\n",
       "      <th>2</th>\n",
       "      <td>28818</td>\n",
       "      <td>91611</td>\n",
       "      <td>2021-03-04</td>\n",
       "      <td>광진구</td>\n",
       "      <td>-</td>\n",
       "      <td>기타 확진자 접촉</td>\n",
       "      <td>NaN</td>\n",
       "    </tr>\n",
       "    <tr>\n",
       "      <th>3</th>\n",
       "      <td>28817</td>\n",
       "      <td>91606</td>\n",
       "      <td>2021-03-04</td>\n",
       "      <td>광진구</td>\n",
       "      <td>-</td>\n",
       "      <td>감염경로 조사중</td>\n",
       "      <td>NaN</td>\n",
       "    </tr>\n",
       "    <tr>\n",
       "      <th>4</th>\n",
       "      <td>28816</td>\n",
       "      <td>91608</td>\n",
       "      <td>2021-03-04</td>\n",
       "      <td>강북구</td>\n",
       "      <td>-</td>\n",
       "      <td>기타 확진자 접촉</td>\n",
       "      <td>NaN</td>\n",
       "    </tr>\n",
       "    <tr>\n",
       "      <th>...</th>\n",
       "      <td>...</td>\n",
       "      <td>...</td>\n",
       "      <td>...</td>\n",
       "      <td>...</td>\n",
       "      <td>...</td>\n",
       "      <td>...</td>\n",
       "      <td>...</td>\n",
       "    </tr>\n",
       "    <tr>\n",
       "      <th>28815</th>\n",
       "      <td>5</td>\n",
       "      <td>9</td>\n",
       "      <td>2020-01-31</td>\n",
       "      <td>마포구</td>\n",
       "      <td>-</td>\n",
       "      <td>기타 확진자 접촉</td>\n",
       "      <td>퇴원</td>\n",
       "    </tr>\n",
       "    <tr>\n",
       "      <th>28816</th>\n",
       "      <td>4</td>\n",
       "      <td>7</td>\n",
       "      <td>2020-01-30</td>\n",
       "      <td>종로구</td>\n",
       "      <td>중국</td>\n",
       "      <td>해외유입</td>\n",
       "      <td>퇴원</td>\n",
       "    </tr>\n",
       "    <tr>\n",
       "      <th>28817</th>\n",
       "      <td>3</td>\n",
       "      <td>6</td>\n",
       "      <td>2020-01-30</td>\n",
       "      <td>중랑구</td>\n",
       "      <td>-</td>\n",
       "      <td>종로구 집단발병</td>\n",
       "      <td>퇴원</td>\n",
       "    </tr>\n",
       "    <tr>\n",
       "      <th>28818</th>\n",
       "      <td>2</td>\n",
       "      <td>5</td>\n",
       "      <td>2020-01-30</td>\n",
       "      <td>강서구</td>\n",
       "      <td>중국</td>\n",
       "      <td>해외유입</td>\n",
       "      <td>퇴원</td>\n",
       "    </tr>\n",
       "    <tr>\n",
       "      <th>28819</th>\n",
       "      <td>1</td>\n",
       "      <td>2</td>\n",
       "      <td>2020-01-24</td>\n",
       "      <td>강서구</td>\n",
       "      <td>중국</td>\n",
       "      <td>해외유입</td>\n",
       "      <td>퇴원</td>\n",
       "    </tr>\n",
       "  </tbody>\n",
       "</table>\n",
       "<p>28820 rows × 7 columns</p>\n",
       "</div>"
      ],
      "text/plain": [
       "          연번     환자         확진일   거주지 여행력        접촉력 퇴원현황\n",
       "0      28820  91588  2021-03-04  영등포구   -   감염경로 조사중  NaN\n",
       "1      28819  91613  2021-03-04  영등포구   -   감염경로 조사중  NaN\n",
       "2      28818  91611  2021-03-04   광진구   -  기타 확진자 접촉  NaN\n",
       "3      28817  91606  2021-03-04   광진구   -   감염경로 조사중  NaN\n",
       "4      28816  91608  2021-03-04   강북구   -  기타 확진자 접촉  NaN\n",
       "...      ...    ...         ...   ...  ..        ...  ...\n",
       "28815      5      9  2020-01-31   마포구   -  기타 확진자 접촉   퇴원\n",
       "28816      4      7  2020-01-30   종로구  중국       해외유입   퇴원\n",
       "28817      3      6  2020-01-30   중랑구   -   종로구 집단발병   퇴원\n",
       "28818      2      5  2020-01-30   강서구  중국       해외유입   퇴원\n",
       "28819      1      2  2020-01-24   강서구  중국       해외유입   퇴원\n",
       "\n",
       "[28820 rows x 7 columns]"
      ]
     },
     "execution_count": 41,
     "metadata": {},
     "output_type": "execute_result"
    }
   ],
   "source": [
    "# 제대로 저장되었는지 확인합니다.\n",
    "pd.read_csv(file_name)"
   ]
  },
  {
   "cell_type": "code",
   "execution_count": null,
   "metadata": {},
   "outputs": [],
   "source": []
  }
 ],
 "metadata": {
  "kernelspec": {
   "display_name": "Python 3",
   "language": "python",
   "name": "python3"
  },
  "language_info": {
   "codemirror_mode": {
    "name": "ipython",
    "version": 3
   },
   "file_extension": ".py",
   "mimetype": "text/x-python",
   "name": "python",
   "nbconvert_exporter": "python",
   "pygments_lexer": "ipython3",
   "version": "3.8.3"
  }
 },
 "nbformat": 4,
 "nbformat_minor": 4
}
